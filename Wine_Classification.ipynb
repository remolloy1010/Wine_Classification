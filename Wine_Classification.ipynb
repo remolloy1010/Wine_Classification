{
 "cells": [
  {
   "cell_type": "code",
   "execution_count": 1,
   "metadata": {},
   "outputs": [],
   "source": [
    "import numpy as np\n",
    "import pandas as pd\n",
    "import matplotlib as plt\n",
    "import seaborn as sns\n",
    "import plotly.express as px"
   ]
  },
  {
   "cell_type": "code",
   "execution_count": 2,
   "metadata": {},
   "outputs": [],
   "source": [
    "df = pd.read_csv(\"./winequality-red.csv\")"
   ]
  },
  {
   "cell_type": "code",
   "execution_count": 3,
   "metadata": {},
   "outputs": [
    {
     "name": "stdout",
     "output_type": "stream",
     "text": [
      "Rows, Columns: (1599, 12)\n"
     ]
    },
    {
     "data": {
      "text/html": [
       "<div>\n",
       "<style scoped>\n",
       "    .dataframe tbody tr th:only-of-type {\n",
       "        vertical-align: middle;\n",
       "    }\n",
       "\n",
       "    .dataframe tbody tr th {\n",
       "        vertical-align: top;\n",
       "    }\n",
       "\n",
       "    .dataframe thead th {\n",
       "        text-align: right;\n",
       "    }\n",
       "</style>\n",
       "<table border=\"1\" class=\"dataframe\">\n",
       "  <thead>\n",
       "    <tr style=\"text-align: right;\">\n",
       "      <th></th>\n",
       "      <th>fixed acidity</th>\n",
       "      <th>volatile acidity</th>\n",
       "      <th>citric acid</th>\n",
       "      <th>residual sugar</th>\n",
       "      <th>chlorides</th>\n",
       "      <th>free sulfur dioxide</th>\n",
       "      <th>total sulfur dioxide</th>\n",
       "      <th>density</th>\n",
       "      <th>pH</th>\n",
       "      <th>sulphates</th>\n",
       "      <th>alcohol</th>\n",
       "      <th>quality</th>\n",
       "    </tr>\n",
       "  </thead>\n",
       "  <tbody>\n",
       "    <tr>\n",
       "      <th>0</th>\n",
       "      <td>7.4</td>\n",
       "      <td>0.70</td>\n",
       "      <td>0.00</td>\n",
       "      <td>1.9</td>\n",
       "      <td>0.076</td>\n",
       "      <td>11.0</td>\n",
       "      <td>34.0</td>\n",
       "      <td>0.9978</td>\n",
       "      <td>3.51</td>\n",
       "      <td>0.56</td>\n",
       "      <td>9.4</td>\n",
       "      <td>5</td>\n",
       "    </tr>\n",
       "    <tr>\n",
       "      <th>1</th>\n",
       "      <td>7.8</td>\n",
       "      <td>0.88</td>\n",
       "      <td>0.00</td>\n",
       "      <td>2.6</td>\n",
       "      <td>0.098</td>\n",
       "      <td>25.0</td>\n",
       "      <td>67.0</td>\n",
       "      <td>0.9968</td>\n",
       "      <td>3.20</td>\n",
       "      <td>0.68</td>\n",
       "      <td>9.8</td>\n",
       "      <td>5</td>\n",
       "    </tr>\n",
       "    <tr>\n",
       "      <th>2</th>\n",
       "      <td>7.8</td>\n",
       "      <td>0.76</td>\n",
       "      <td>0.04</td>\n",
       "      <td>2.3</td>\n",
       "      <td>0.092</td>\n",
       "      <td>15.0</td>\n",
       "      <td>54.0</td>\n",
       "      <td>0.9970</td>\n",
       "      <td>3.26</td>\n",
       "      <td>0.65</td>\n",
       "      <td>9.8</td>\n",
       "      <td>5</td>\n",
       "    </tr>\n",
       "    <tr>\n",
       "      <th>3</th>\n",
       "      <td>11.2</td>\n",
       "      <td>0.28</td>\n",
       "      <td>0.56</td>\n",
       "      <td>1.9</td>\n",
       "      <td>0.075</td>\n",
       "      <td>17.0</td>\n",
       "      <td>60.0</td>\n",
       "      <td>0.9980</td>\n",
       "      <td>3.16</td>\n",
       "      <td>0.58</td>\n",
       "      <td>9.8</td>\n",
       "      <td>6</td>\n",
       "    </tr>\n",
       "    <tr>\n",
       "      <th>4</th>\n",
       "      <td>7.4</td>\n",
       "      <td>0.70</td>\n",
       "      <td>0.00</td>\n",
       "      <td>1.9</td>\n",
       "      <td>0.076</td>\n",
       "      <td>11.0</td>\n",
       "      <td>34.0</td>\n",
       "      <td>0.9978</td>\n",
       "      <td>3.51</td>\n",
       "      <td>0.56</td>\n",
       "      <td>9.4</td>\n",
       "      <td>5</td>\n",
       "    </tr>\n",
       "  </tbody>\n",
       "</table>\n",
       "</div>"
      ],
      "text/plain": [
       "   fixed acidity  volatile acidity  citric acid  residual sugar  chlorides  \\\n",
       "0            7.4              0.70         0.00             1.9      0.076   \n",
       "1            7.8              0.88         0.00             2.6      0.098   \n",
       "2            7.8              0.76         0.04             2.3      0.092   \n",
       "3           11.2              0.28         0.56             1.9      0.075   \n",
       "4            7.4              0.70         0.00             1.9      0.076   \n",
       "\n",
       "   free sulfur dioxide  total sulfur dioxide  density    pH  sulphates  \\\n",
       "0                 11.0                  34.0   0.9978  3.51       0.56   \n",
       "1                 25.0                  67.0   0.9968  3.20       0.68   \n",
       "2                 15.0                  54.0   0.9970  3.26       0.65   \n",
       "3                 17.0                  60.0   0.9980  3.16       0.58   \n",
       "4                 11.0                  34.0   0.9978  3.51       0.56   \n",
       "\n",
       "   alcohol  quality  \n",
       "0      9.4        5  \n",
       "1      9.8        5  \n",
       "2      9.8        5  \n",
       "3      9.8        6  \n",
       "4      9.4        5  "
      ]
     },
     "execution_count": 3,
     "metadata": {},
     "output_type": "execute_result"
    }
   ],
   "source": [
    "# Dataframe dimensions\n",
    "print(\"Rows, Columns: \" + str(df.shape))\n",
    "\n",
    "df.head()"
   ]
  },
  {
   "cell_type": "code",
   "execution_count": 4,
   "metadata": {},
   "outputs": [
    {
     "name": "stdout",
     "output_type": "stream",
     "text": [
      "fixed acidity           0\n",
      "volatile acidity        0\n",
      "citric acid             0\n",
      "residual sugar          0\n",
      "chlorides               0\n",
      "free sulfur dioxide     0\n",
      "total sulfur dioxide    0\n",
      "density                 0\n",
      "pH                      0\n",
      "sulphates               0\n",
      "alcohol                 0\n",
      "quality                 0\n",
      "dtype: int64\n"
     ]
    }
   ],
   "source": [
    "# Are there any missing values?\n",
    "print(df.isna().sum())\n",
    "\n",
    "# This dataset is easy, all numerical, no missing values - no data engineering required"
   ]
  },
  {
   "cell_type": "code",
   "execution_count": 6,
   "metadata": {},
   "outputs": [
    {
     "data": {
      "application/vnd.plotly.v1+json": {
       "config": {
        "plotlyServerURL": "https://plot.ly"
       },
       "data": [
        {
         "alignmentgroup": "True",
         "bingroup": "x",
         "hovertemplate": "quality=%{x}<br>count=%{y}<extra></extra>",
         "legendgroup": "",
         "marker": {
          "color": "#636efa",
          "pattern": {
           "shape": ""
          }
         },
         "name": "",
         "offsetgroup": "",
         "orientation": "v",
         "showlegend": false,
         "type": "histogram",
         "x": [
          5,
          5,
          5,
          6,
          5,
          5,
          5,
          7,
          7,
          5,
          5,
          5,
          5,
          5,
          5,
          5,
          7,
          5,
          4,
          6,
          6,
          5,
          5,
          5,
          6,
          5,
          5,
          5,
          5,
          6,
          5,
          6,
          5,
          6,
          5,
          6,
          6,
          7,
          4,
          5,
          5,
          4,
          6,
          5,
          5,
          4,
          5,
          5,
          5,
          5,
          5,
          6,
          6,
          5,
          6,
          5,
          5,
          5,
          5,
          6,
          5,
          5,
          7,
          5,
          5,
          5,
          5,
          5,
          5,
          6,
          6,
          5,
          5,
          4,
          5,
          5,
          5,
          6,
          5,
          4,
          5,
          5,
          5,
          5,
          6,
          5,
          6,
          5,
          5,
          5,
          5,
          6,
          5,
          5,
          4,
          6,
          5,
          5,
          5,
          6,
          6,
          6,
          6,
          5,
          5,
          5,
          5,
          5,
          6,
          5,
          5,
          5,
          5,
          6,
          5,
          6,
          6,
          6,
          6,
          6,
          5,
          6,
          5,
          5,
          5,
          5,
          5,
          5,
          7,
          5,
          5,
          5,
          5,
          6,
          6,
          5,
          5,
          5,
          5,
          5,
          5,
          5,
          6,
          5,
          6,
          5,
          5,
          5,
          6,
          6,
          6,
          4,
          5,
          5,
          5,
          5,
          5,
          5,
          5,
          6,
          5,
          4,
          6,
          5,
          5,
          5,
          5,
          4,
          6,
          5,
          4,
          6,
          6,
          6,
          5,
          5,
          5,
          6,
          5,
          5,
          5,
          5,
          5,
          5,
          6,
          5,
          5,
          5,
          5,
          5,
          5,
          6,
          5,
          5,
          5,
          5,
          5,
          6,
          7,
          4,
          7,
          5,
          5,
          5,
          6,
          7,
          7,
          5,
          5,
          7,
          6,
          6,
          6,
          5,
          6,
          5,
          5,
          5,
          5,
          5,
          6,
          5,
          5,
          6,
          4,
          6,
          6,
          5,
          6,
          5,
          7,
          6,
          6,
          5,
          6,
          6,
          6,
          6,
          6,
          6,
          5,
          6,
          6,
          7,
          7,
          6,
          5,
          5,
          6,
          6,
          6,
          6,
          5,
          5,
          6,
          5,
          5,
          5,
          5,
          7,
          5,
          4,
          5,
          5,
          5,
          7,
          4,
          8,
          6,
          6,
          6,
          6,
          5,
          5,
          5,
          6,
          6,
          6,
          8,
          7,
          6,
          7,
          5,
          7,
          5,
          5,
          6,
          6,
          7,
          5,
          7,
          5,
          6,
          6,
          6,
          5,
          5,
          5,
          5,
          5,
          6,
          6,
          5,
          5,
          5,
          6,
          5,
          6,
          6,
          6,
          6,
          6,
          6,
          5,
          5,
          6,
          5,
          6,
          7,
          6,
          7,
          5,
          5,
          6,
          6,
          6,
          7,
          5,
          6,
          5,
          6,
          6,
          6,
          5,
          7,
          7,
          6,
          5,
          6,
          7,
          6,
          6,
          6,
          6,
          6,
          5,
          7,
          6,
          6,
          6,
          6,
          6,
          5,
          5,
          6,
          6,
          5,
          7,
          7,
          6,
          5,
          6,
          5,
          5,
          7,
          6,
          7,
          5,
          5,
          7,
          5,
          6,
          6,
          5,
          6,
          7,
          6,
          7,
          6,
          6,
          6,
          6,
          6,
          6,
          5,
          6,
          6,
          6,
          6,
          7,
          8,
          6,
          5,
          5,
          5,
          7,
          5,
          6,
          6,
          5,
          5,
          6,
          6,
          6,
          5,
          6,
          6,
          7,
          6,
          4,
          6,
          5,
          5,
          7,
          5,
          5,
          6,
          5,
          6,
          5,
          7,
          7,
          5,
          7,
          5,
          7,
          6,
          6,
          5,
          6,
          7,
          5,
          6,
          5,
          6,
          5,
          6,
          6,
          6,
          5,
          8,
          6,
          7,
          7,
          7,
          6,
          5,
          5,
          6,
          6,
          6,
          6,
          6,
          7,
          5,
          8,
          5,
          5,
          7,
          3,
          6,
          5,
          5,
          5,
          6,
          5,
          6,
          6,
          6,
          5,
          5,
          6,
          6,
          5,
          6,
          5,
          5,
          6,
          5,
          6,
          5,
          8,
          5,
          5,
          6,
          5,
          5,
          6,
          7,
          6,
          6,
          7,
          7,
          6,
          6,
          8,
          6,
          5,
          8,
          6,
          6,
          7,
          7,
          7,
          7,
          7,
          7,
          6,
          6,
          7,
          5,
          6,
          6,
          7,
          7,
          5,
          6,
          3,
          6,
          5,
          6,
          5,
          5,
          5,
          5,
          5,
          5,
          6,
          6,
          5,
          6,
          5,
          5,
          6,
          6,
          6,
          5,
          6,
          7,
          5,
          5,
          6,
          5,
          6,
          6,
          5,
          6,
          6,
          6,
          6,
          6,
          6,
          6,
          5,
          5,
          5,
          6,
          5,
          6,
          6,
          5,
          5,
          5,
          6,
          6,
          5,
          6,
          6,
          6,
          6,
          6,
          6,
          5,
          4,
          6,
          6,
          4,
          5,
          5,
          6,
          5,
          5,
          5,
          7,
          7,
          6,
          7,
          5,
          8,
          7,
          5,
          6,
          5,
          5,
          5,
          5,
          6,
          6,
          6,
          6,
          4,
          6,
          5,
          6,
          6,
          6,
          7,
          6,
          6,
          6,
          5,
          5,
          6,
          5,
          6,
          5,
          5,
          6,
          5,
          5,
          5,
          5,
          5,
          6,
          5,
          5,
          5,
          5,
          6,
          5,
          6,
          5,
          6,
          4,
          5,
          5,
          5,
          5,
          7,
          6,
          5,
          5,
          5,
          5,
          5,
          7,
          5,
          4,
          7,
          6,
          5,
          5,
          5,
          6,
          5,
          5,
          5,
          7,
          6,
          4,
          6,
          5,
          6,
          6,
          5,
          5,
          6,
          6,
          5,
          6,
          5,
          5,
          5,
          5,
          6,
          5,
          6,
          5,
          5,
          5,
          5,
          6,
          5,
          5,
          5,
          5,
          5,
          5,
          5,
          5,
          3,
          5,
          5,
          5,
          5,
          6,
          6,
          6,
          5,
          6,
          6,
          6,
          6,
          4,
          4,
          5,
          5,
          5,
          6,
          6,
          5,
          5,
          5,
          5,
          5,
          6,
          5,
          5,
          5,
          5,
          5,
          5,
          5,
          5,
          4,
          5,
          6,
          5,
          5,
          6,
          5,
          5,
          5,
          5,
          5,
          5,
          5,
          6,
          5,
          5,
          6,
          5,
          5,
          5,
          5,
          6,
          6,
          5,
          6,
          6,
          5,
          5,
          5,
          5,
          6,
          6,
          6,
          5,
          5,
          5,
          5,
          5,
          6,
          5,
          6,
          6,
          5,
          5,
          6,
          5,
          6,
          5,
          5,
          6,
          6,
          5,
          6,
          6,
          5,
          5,
          6,
          5,
          5,
          5,
          5,
          5,
          5,
          6,
          6,
          5,
          6,
          5,
          6,
          5,
          6,
          5,
          5,
          7,
          6,
          6,
          5,
          5,
          7,
          6,
          6,
          7,
          7,
          7,
          5,
          6,
          5,
          6,
          5,
          4,
          6,
          5,
          6,
          6,
          5,
          5,
          5,
          7,
          5,
          5,
          5,
          5,
          7,
          5,
          8,
          6,
          4,
          6,
          3,
          4,
          5,
          5,
          7,
          7,
          7,
          5,
          7,
          5,
          6,
          5,
          6,
          5,
          5,
          6,
          5,
          5,
          5,
          5,
          5,
          6,
          6,
          7,
          6,
          7,
          7,
          6,
          5,
          6,
          5,
          5,
          5,
          5,
          6,
          6,
          6,
          6,
          6,
          5,
          4,
          7,
          7,
          7,
          4,
          6,
          6,
          5,
          5,
          6,
          6,
          5,
          6,
          5,
          6,
          7,
          6,
          5,
          5,
          5,
          6,
          5,
          6,
          6,
          7,
          6,
          7,
          3,
          5,
          7,
          7,
          7,
          7,
          5,
          5,
          6,
          6,
          6,
          6,
          6,
          6,
          7,
          6,
          6,
          5,
          6,
          6,
          6,
          5,
          6,
          6,
          6,
          5,
          7,
          6,
          4,
          5,
          7,
          5,
          5,
          6,
          5,
          5,
          6,
          6,
          4,
          7,
          5,
          7,
          7,
          7,
          7,
          7,
          7,
          7,
          7,
          7,
          7,
          7,
          7,
          7,
          7,
          6,
          5,
          6,
          6,
          7,
          5,
          6,
          5,
          5,
          6,
          6,
          6,
          7,
          5,
          6,
          5,
          6,
          6,
          7,
          5,
          7,
          5,
          5,
          5,
          7,
          5,
          6,
          5,
          6,
          6,
          5,
          6,
          7,
          5,
          5,
          6,
          5,
          5,
          6,
          5,
          5,
          6,
          7,
          7,
          6,
          6,
          7,
          7,
          7,
          7,
          5,
          7,
          7,
          7,
          7,
          5,
          7,
          6,
          5,
          6,
          6,
          6,
          7,
          6,
          6,
          5,
          6,
          6,
          5,
          6,
          7,
          6,
          6,
          5,
          6,
          7,
          7,
          7,
          5,
          6,
          6,
          7,
          7,
          5,
          7,
          6,
          5,
          6,
          6,
          7,
          6,
          6,
          6,
          5,
          6,
          6,
          5,
          5,
          5,
          7,
          6,
          6,
          7,
          5,
          7,
          7,
          6,
          8,
          6,
          6,
          6,
          6,
          7,
          7,
          7,
          5,
          7,
          5,
          6,
          6,
          5,
          7,
          6,
          5,
          5,
          7,
          6,
          7,
          6,
          6,
          6,
          5,
          7,
          6,
          7,
          7,
          8,
          6,
          6,
          7,
          6,
          5,
          6,
          5,
          7,
          5,
          6,
          6,
          6,
          6,
          6,
          5,
          6,
          7,
          5,
          6,
          6,
          7,
          6,
          6,
          6,
          6,
          6,
          6,
          6,
          5,
          8,
          6,
          6,
          6,
          4,
          7,
          6,
          6,
          5,
          6,
          6,
          5,
          7,
          7,
          7,
          6,
          6,
          6,
          5,
          6,
          6,
          6,
          6,
          6,
          5,
          6,
          6,
          7,
          6,
          6,
          7,
          6,
          5,
          6,
          6,
          5,
          7,
          7,
          6,
          5,
          7,
          6,
          7,
          5,
          5,
          5,
          5,
          7,
          6,
          6,
          6,
          6,
          6,
          6,
          6,
          6,
          4,
          7,
          5,
          6,
          6,
          5,
          6,
          5,
          5,
          6,
          5,
          6,
          5,
          4,
          6,
          5,
          7,
          5,
          6,
          6,
          6,
          6,
          6,
          6,
          6,
          7,
          8,
          5,
          7,
          7,
          7,
          5,
          7,
          7,
          6,
          5,
          6,
          6,
          6,
          6,
          6,
          6,
          6,
          6,
          6,
          6,
          6,
          6,
          6,
          5,
          5,
          5,
          7,
          5,
          6,
          5,
          5,
          4,
          6,
          4,
          6,
          6,
          4,
          4,
          5,
          5,
          6,
          5,
          6,
          5,
          5,
          5,
          6,
          6,
          6,
          5,
          5,
          5,
          5,
          5,
          5,
          6,
          6,
          6,
          5,
          4,
          5,
          4,
          6,
          6,
          6,
          6,
          6,
          8,
          6,
          6,
          5,
          5,
          6,
          6,
          4,
          6,
          6,
          7,
          6,
          6,
          6,
          6,
          5,
          5,
          6,
          5,
          5,
          5,
          5,
          6,
          6,
          4,
          6,
          5,
          5,
          6,
          6,
          3,
          6,
          6,
          6,
          5,
          5,
          5,
          5,
          4,
          5,
          5,
          5,
          6,
          5,
          6,
          6,
          6,
          6,
          6,
          6,
          6,
          5,
          6,
          5,
          7,
          6,
          6,
          6,
          6,
          5,
          6,
          6,
          5,
          6,
          5,
          5,
          6,
          5,
          5,
          5,
          6,
          6,
          6,
          6,
          6,
          5,
          6,
          5,
          5,
          5,
          5,
          5,
          6,
          5,
          5,
          5,
          5,
          5,
          6,
          5,
          6,
          5,
          5,
          6,
          4,
          6,
          5,
          5,
          6,
          6,
          4,
          5,
          6,
          5,
          5,
          3,
          5,
          5,
          6,
          6,
          6,
          6,
          5,
          5,
          5,
          5,
          5,
          5,
          5,
          5,
          5,
          6,
          5,
          5,
          5,
          5,
          6,
          5,
          5,
          7,
          6,
          5,
          5,
          6,
          8,
          6,
          7,
          6,
          6,
          7,
          6,
          6,
          6,
          6,
          5,
          5,
          5,
          5,
          7,
          5,
          5,
          5,
          5,
          6,
          4,
          6,
          6,
          6,
          5,
          5,
          5,
          5,
          6,
          6,
          7,
          6,
          6,
          5,
          5,
          5,
          6,
          7,
          6,
          5,
          5,
          6,
          6,
          5,
          5,
          5,
          8,
          7,
          7,
          7,
          5,
          6,
          6,
          6,
          5,
          5,
          7,
          6,
          4,
          6,
          6,
          5,
          5,
          7,
          4,
          7,
          3,
          5,
          5,
          6,
          5,
          5,
          7,
          5,
          7,
          3,
          5,
          4,
          5,
          4,
          5,
          4,
          5,
          5,
          5,
          5,
          6,
          6,
          5,
          5,
          5,
          7,
          6,
          5,
          6,
          6,
          6,
          5,
          5,
          5,
          6,
          6,
          3,
          6,
          6,
          6,
          5,
          6,
          5,
          6,
          6,
          6,
          6,
          5,
          6,
          5,
          5,
          6,
          4,
          5,
          5,
          6,
          5,
          6,
          6,
          6,
          6,
          6,
          5,
          6,
          5,
          7,
          6,
          6,
          6,
          5,
          5,
          6,
          7,
          6,
          6,
          7,
          6,
          5,
          5,
          5,
          8,
          5,
          5,
          6,
          5,
          6,
          7,
          5,
          6,
          5,
          5,
          5,
          5,
          5,
          5,
          5,
          6,
          6,
          5,
          5,
          6,
          6,
          6,
          5,
          6,
          6,
          6,
          6,
          6,
          6,
          5,
          6,
          5,
          5,
          5,
          7,
          6,
          6,
          6,
          6,
          5,
          6,
          6,
          6,
          6,
          5,
          6,
          6,
          5,
          6
         ],
         "xaxis": "x",
         "yaxis": "y"
        }
       ],
       "layout": {
        "autosize": true,
        "barmode": "relative",
        "legend": {
         "tracegroupgap": 0
        },
        "margin": {
         "t": 60
        },
        "template": {
         "data": {
          "bar": [
           {
            "error_x": {
             "color": "#2a3f5f"
            },
            "error_y": {
             "color": "#2a3f5f"
            },
            "marker": {
             "line": {
              "color": "#E5ECF6",
              "width": 0.5
             },
             "pattern": {
              "fillmode": "overlay",
              "size": 10,
              "solidity": 0.2
             }
            },
            "type": "bar"
           }
          ],
          "barpolar": [
           {
            "marker": {
             "line": {
              "color": "#E5ECF6",
              "width": 0.5
             },
             "pattern": {
              "fillmode": "overlay",
              "size": 10,
              "solidity": 0.2
             }
            },
            "type": "barpolar"
           }
          ],
          "carpet": [
           {
            "aaxis": {
             "endlinecolor": "#2a3f5f",
             "gridcolor": "white",
             "linecolor": "white",
             "minorgridcolor": "white",
             "startlinecolor": "#2a3f5f"
            },
            "baxis": {
             "endlinecolor": "#2a3f5f",
             "gridcolor": "white",
             "linecolor": "white",
             "minorgridcolor": "white",
             "startlinecolor": "#2a3f5f"
            },
            "type": "carpet"
           }
          ],
          "choropleth": [
           {
            "colorbar": {
             "outlinewidth": 0,
             "ticks": ""
            },
            "type": "choropleth"
           }
          ],
          "contour": [
           {
            "colorbar": {
             "outlinewidth": 0,
             "ticks": ""
            },
            "colorscale": [
             [
              0,
              "#0d0887"
             ],
             [
              0.1111111111111111,
              "#46039f"
             ],
             [
              0.2222222222222222,
              "#7201a8"
             ],
             [
              0.3333333333333333,
              "#9c179e"
             ],
             [
              0.4444444444444444,
              "#bd3786"
             ],
             [
              0.5555555555555556,
              "#d8576b"
             ],
             [
              0.6666666666666666,
              "#ed7953"
             ],
             [
              0.7777777777777778,
              "#fb9f3a"
             ],
             [
              0.8888888888888888,
              "#fdca26"
             ],
             [
              1,
              "#f0f921"
             ]
            ],
            "type": "contour"
           }
          ],
          "contourcarpet": [
           {
            "colorbar": {
             "outlinewidth": 0,
             "ticks": ""
            },
            "type": "contourcarpet"
           }
          ],
          "heatmap": [
           {
            "colorbar": {
             "outlinewidth": 0,
             "ticks": ""
            },
            "colorscale": [
             [
              0,
              "#0d0887"
             ],
             [
              0.1111111111111111,
              "#46039f"
             ],
             [
              0.2222222222222222,
              "#7201a8"
             ],
             [
              0.3333333333333333,
              "#9c179e"
             ],
             [
              0.4444444444444444,
              "#bd3786"
             ],
             [
              0.5555555555555556,
              "#d8576b"
             ],
             [
              0.6666666666666666,
              "#ed7953"
             ],
             [
              0.7777777777777778,
              "#fb9f3a"
             ],
             [
              0.8888888888888888,
              "#fdca26"
             ],
             [
              1,
              "#f0f921"
             ]
            ],
            "type": "heatmap"
           }
          ],
          "heatmapgl": [
           {
            "colorbar": {
             "outlinewidth": 0,
             "ticks": ""
            },
            "colorscale": [
             [
              0,
              "#0d0887"
             ],
             [
              0.1111111111111111,
              "#46039f"
             ],
             [
              0.2222222222222222,
              "#7201a8"
             ],
             [
              0.3333333333333333,
              "#9c179e"
             ],
             [
              0.4444444444444444,
              "#bd3786"
             ],
             [
              0.5555555555555556,
              "#d8576b"
             ],
             [
              0.6666666666666666,
              "#ed7953"
             ],
             [
              0.7777777777777778,
              "#fb9f3a"
             ],
             [
              0.8888888888888888,
              "#fdca26"
             ],
             [
              1,
              "#f0f921"
             ]
            ],
            "type": "heatmapgl"
           }
          ],
          "histogram": [
           {
            "marker": {
             "pattern": {
              "fillmode": "overlay",
              "size": 10,
              "solidity": 0.2
             }
            },
            "type": "histogram"
           }
          ],
          "histogram2d": [
           {
            "colorbar": {
             "outlinewidth": 0,
             "ticks": ""
            },
            "colorscale": [
             [
              0,
              "#0d0887"
             ],
             [
              0.1111111111111111,
              "#46039f"
             ],
             [
              0.2222222222222222,
              "#7201a8"
             ],
             [
              0.3333333333333333,
              "#9c179e"
             ],
             [
              0.4444444444444444,
              "#bd3786"
             ],
             [
              0.5555555555555556,
              "#d8576b"
             ],
             [
              0.6666666666666666,
              "#ed7953"
             ],
             [
              0.7777777777777778,
              "#fb9f3a"
             ],
             [
              0.8888888888888888,
              "#fdca26"
             ],
             [
              1,
              "#f0f921"
             ]
            ],
            "type": "histogram2d"
           }
          ],
          "histogram2dcontour": [
           {
            "colorbar": {
             "outlinewidth": 0,
             "ticks": ""
            },
            "colorscale": [
             [
              0,
              "#0d0887"
             ],
             [
              0.1111111111111111,
              "#46039f"
             ],
             [
              0.2222222222222222,
              "#7201a8"
             ],
             [
              0.3333333333333333,
              "#9c179e"
             ],
             [
              0.4444444444444444,
              "#bd3786"
             ],
             [
              0.5555555555555556,
              "#d8576b"
             ],
             [
              0.6666666666666666,
              "#ed7953"
             ],
             [
              0.7777777777777778,
              "#fb9f3a"
             ],
             [
              0.8888888888888888,
              "#fdca26"
             ],
             [
              1,
              "#f0f921"
             ]
            ],
            "type": "histogram2dcontour"
           }
          ],
          "mesh3d": [
           {
            "colorbar": {
             "outlinewidth": 0,
             "ticks": ""
            },
            "type": "mesh3d"
           }
          ],
          "parcoords": [
           {
            "line": {
             "colorbar": {
              "outlinewidth": 0,
              "ticks": ""
             }
            },
            "type": "parcoords"
           }
          ],
          "pie": [
           {
            "automargin": true,
            "type": "pie"
           }
          ],
          "scatter": [
           {
            "marker": {
             "colorbar": {
              "outlinewidth": 0,
              "ticks": ""
             }
            },
            "type": "scatter"
           }
          ],
          "scatter3d": [
           {
            "line": {
             "colorbar": {
              "outlinewidth": 0,
              "ticks": ""
             }
            },
            "marker": {
             "colorbar": {
              "outlinewidth": 0,
              "ticks": ""
             }
            },
            "type": "scatter3d"
           }
          ],
          "scattercarpet": [
           {
            "marker": {
             "colorbar": {
              "outlinewidth": 0,
              "ticks": ""
             }
            },
            "type": "scattercarpet"
           }
          ],
          "scattergeo": [
           {
            "marker": {
             "colorbar": {
              "outlinewidth": 0,
              "ticks": ""
             }
            },
            "type": "scattergeo"
           }
          ],
          "scattergl": [
           {
            "marker": {
             "colorbar": {
              "outlinewidth": 0,
              "ticks": ""
             }
            },
            "type": "scattergl"
           }
          ],
          "scattermapbox": [
           {
            "marker": {
             "colorbar": {
              "outlinewidth": 0,
              "ticks": ""
             }
            },
            "type": "scattermapbox"
           }
          ],
          "scatterpolar": [
           {
            "marker": {
             "colorbar": {
              "outlinewidth": 0,
              "ticks": ""
             }
            },
            "type": "scatterpolar"
           }
          ],
          "scatterpolargl": [
           {
            "marker": {
             "colorbar": {
              "outlinewidth": 0,
              "ticks": ""
             }
            },
            "type": "scatterpolargl"
           }
          ],
          "scatterternary": [
           {
            "marker": {
             "colorbar": {
              "outlinewidth": 0,
              "ticks": ""
             }
            },
            "type": "scatterternary"
           }
          ],
          "surface": [
           {
            "colorbar": {
             "outlinewidth": 0,
             "ticks": ""
            },
            "colorscale": [
             [
              0,
              "#0d0887"
             ],
             [
              0.1111111111111111,
              "#46039f"
             ],
             [
              0.2222222222222222,
              "#7201a8"
             ],
             [
              0.3333333333333333,
              "#9c179e"
             ],
             [
              0.4444444444444444,
              "#bd3786"
             ],
             [
              0.5555555555555556,
              "#d8576b"
             ],
             [
              0.6666666666666666,
              "#ed7953"
             ],
             [
              0.7777777777777778,
              "#fb9f3a"
             ],
             [
              0.8888888888888888,
              "#fdca26"
             ],
             [
              1,
              "#f0f921"
             ]
            ],
            "type": "surface"
           }
          ],
          "table": [
           {
            "cells": {
             "fill": {
              "color": "#EBF0F8"
             },
             "line": {
              "color": "white"
             }
            },
            "header": {
             "fill": {
              "color": "#C8D4E3"
             },
             "line": {
              "color": "white"
             }
            },
            "type": "table"
           }
          ]
         },
         "layout": {
          "annotationdefaults": {
           "arrowcolor": "#2a3f5f",
           "arrowhead": 0,
           "arrowwidth": 1
          },
          "autotypenumbers": "strict",
          "coloraxis": {
           "colorbar": {
            "outlinewidth": 0,
            "ticks": ""
           }
          },
          "colorscale": {
           "diverging": [
            [
             0,
             "#8e0152"
            ],
            [
             0.1,
             "#c51b7d"
            ],
            [
             0.2,
             "#de77ae"
            ],
            [
             0.3,
             "#f1b6da"
            ],
            [
             0.4,
             "#fde0ef"
            ],
            [
             0.5,
             "#f7f7f7"
            ],
            [
             0.6,
             "#e6f5d0"
            ],
            [
             0.7,
             "#b8e186"
            ],
            [
             0.8,
             "#7fbc41"
            ],
            [
             0.9,
             "#4d9221"
            ],
            [
             1,
             "#276419"
            ]
           ],
           "sequential": [
            [
             0,
             "#0d0887"
            ],
            [
             0.1111111111111111,
             "#46039f"
            ],
            [
             0.2222222222222222,
             "#7201a8"
            ],
            [
             0.3333333333333333,
             "#9c179e"
            ],
            [
             0.4444444444444444,
             "#bd3786"
            ],
            [
             0.5555555555555556,
             "#d8576b"
            ],
            [
             0.6666666666666666,
             "#ed7953"
            ],
            [
             0.7777777777777778,
             "#fb9f3a"
            ],
            [
             0.8888888888888888,
             "#fdca26"
            ],
            [
             1,
             "#f0f921"
            ]
           ],
           "sequentialminus": [
            [
             0,
             "#0d0887"
            ],
            [
             0.1111111111111111,
             "#46039f"
            ],
            [
             0.2222222222222222,
             "#7201a8"
            ],
            [
             0.3333333333333333,
             "#9c179e"
            ],
            [
             0.4444444444444444,
             "#bd3786"
            ],
            [
             0.5555555555555556,
             "#d8576b"
            ],
            [
             0.6666666666666666,
             "#ed7953"
            ],
            [
             0.7777777777777778,
             "#fb9f3a"
            ],
            [
             0.8888888888888888,
             "#fdca26"
            ],
            [
             1,
             "#f0f921"
            ]
           ]
          },
          "colorway": [
           "#636efa",
           "#EF553B",
           "#00cc96",
           "#ab63fa",
           "#FFA15A",
           "#19d3f3",
           "#FF6692",
           "#B6E880",
           "#FF97FF",
           "#FECB52"
          ],
          "font": {
           "color": "#2a3f5f"
          },
          "geo": {
           "bgcolor": "white",
           "lakecolor": "white",
           "landcolor": "#E5ECF6",
           "showlakes": true,
           "showland": true,
           "subunitcolor": "white"
          },
          "hoverlabel": {
           "align": "left"
          },
          "hovermode": "closest",
          "mapbox": {
           "style": "light"
          },
          "paper_bgcolor": "white",
          "plot_bgcolor": "#E5ECF6",
          "polar": {
           "angularaxis": {
            "gridcolor": "white",
            "linecolor": "white",
            "ticks": ""
           },
           "bgcolor": "#E5ECF6",
           "radialaxis": {
            "gridcolor": "white",
            "linecolor": "white",
            "ticks": ""
           }
          },
          "scene": {
           "xaxis": {
            "backgroundcolor": "#E5ECF6",
            "gridcolor": "white",
            "gridwidth": 2,
            "linecolor": "white",
            "showbackground": true,
            "ticks": "",
            "zerolinecolor": "white"
           },
           "yaxis": {
            "backgroundcolor": "#E5ECF6",
            "gridcolor": "white",
            "gridwidth": 2,
            "linecolor": "white",
            "showbackground": true,
            "ticks": "",
            "zerolinecolor": "white"
           },
           "zaxis": {
            "backgroundcolor": "#E5ECF6",
            "gridcolor": "white",
            "gridwidth": 2,
            "linecolor": "white",
            "showbackground": true,
            "ticks": "",
            "zerolinecolor": "white"
           }
          },
          "shapedefaults": {
           "line": {
            "color": "#2a3f5f"
           }
          },
          "ternary": {
           "aaxis": {
            "gridcolor": "white",
            "linecolor": "white",
            "ticks": ""
           },
           "baxis": {
            "gridcolor": "white",
            "linecolor": "white",
            "ticks": ""
           },
           "bgcolor": "#E5ECF6",
           "caxis": {
            "gridcolor": "white",
            "linecolor": "white",
            "ticks": ""
           }
          },
          "title": {
           "x": 0.05
          },
          "xaxis": {
           "automargin": true,
           "gridcolor": "white",
           "linecolor": "white",
           "ticks": "",
           "title": {
            "standoff": 15
           },
           "zerolinecolor": "white",
           "zerolinewidth": 2
          },
          "yaxis": {
           "automargin": true,
           "gridcolor": "white",
           "linecolor": "white",
           "ticks": "",
           "title": {
            "standoff": 15
           },
           "zerolinecolor": "white",
           "zerolinewidth": 2
          }
         }
        },
        "xaxis": {
         "anchor": "y",
         "autorange": true,
         "domain": [
          0,
          1
         ],
         "range": [
          2.5,
          8.5
         ],
         "title": {
          "text": "quality"
         },
         "type": "linear"
        },
        "yaxis": {
         "anchor": "x",
         "autorange": true,
         "domain": [
          0,
          1
         ],
         "range": [
          0,
          716.8421052631579
         ],
         "title": {
          "text": "count"
         }
        }
       }
      },
      "image/png": "[encoded data removed]",
      "text/html": [
       "<div>                            <div id=\"5a9a3fe4-23fa-4119-bf9b-8596dda660a3\" class=\"plotly-graph-div\" style=\"height:525px; width:100%;\"></div>            <script type=\"text/javascript\">                require([\"plotly\"], function(Plotly) {                    window.PLOTLYENV=window.PLOTLYENV || {};                                    if (document.getElementById(\"5a9a3fe4-23fa-4119-bf9b-8596dda660a3\")) {                    Plotly.newPlot(                        \"5a9a3fe4-23fa-4119-bf9b-8596dda660a3\",                        [{\"alignmentgroup\":\"True\",\"bingroup\":\"x\",\"hovertemplate\":\"quality=%{x}<br>count=%{y}<extra></extra>\",\"legendgroup\":\"\",\"marker\":{\"color\":\"#636efa\",\"pattern\":{\"shape\":\"\"}},\"name\":\"\",\"offsetgroup\":\"\",\"orientation\":\"v\",\"showlegend\":false,\"type\":\"histogram\",\"x\":[5,5,5,6,5,5,5,7,7,5,5,5,5,5,5,5,7,5,4,6,6,5,5,5,6,5,5,5,5,6,5,6,5,6,5,6,6,7,4,5,5,4,6,5,5,4,5,5,5,5,5,6,6,5,6,5,5,5,5,6,5,5,7,5,5,5,5,5,5,6,6,5,5,4,5,5,5,6,5,4,5,5,5,5,6,5,6,5,5,5,5,6,5,5,4,6,5,5,5,6,6,6,6,5,5,5,5,5,6,5,5,5,5,6,5,6,6,6,6,6,5,6,5,5,5,5,5,5,7,5,5,5,5,6,6,5,5,5,5,5,5,5,6,5,6,5,5,5,6,6,6,4,5,5,5,5,5,5,5,6,5,4,6,5,5,5,5,4,6,5,4,6,6,6,5,5,5,6,5,5,5,5,5,5,6,5,5,5,5,5,5,6,5,5,5,5,5,6,7,4,7,5,5,5,6,7,7,5,5,7,6,6,6,5,6,5,5,5,5,5,6,5,5,6,4,6,6,5,6,5,7,6,6,5,6,6,6,6,6,6,5,6,6,7,7,6,5,5,6,6,6,6,5,5,6,5,5,5,5,7,5,4,5,5,5,7,4,8,6,6,6,6,5,5,5,6,6,6,8,7,6,7,5,7,5,5,6,6,7,5,7,5,6,6,6,5,5,5,5,5,6,6,5,5,5,6,5,6,6,6,6,6,6,5,5,6,5,6,7,6,7,5,5,6,6,6,7,5,6,5,6,6,6,5,7,7,6,5,6,7,6,6,6,6,6,5,7,6,6,6,6,6,5,5,6,6,5,7,7,6,5,6,5,5,7,6,7,5,5,7,5,6,6,5,6,7,6,7,6,6,6,6,6,6,5,6,6,6,6,7,8,6,5,5,5,7,5,6,6,5,5,6,6,6,5,6,6,7,6,4,6,5,5,7,5,5,6,5,6,5,7,7,5,7,5,7,6,6,5,6,7,5,6,5,6,5,6,6,6,5,8,6,7,7,7,6,5,5,6,6,6,6,6,7,5,8,5,5,7,3,6,5,5,5,6,5,6,6,6,5,5,6,6,5,6,5,5,6,5,6,5,8,5,5,6,5,5,6,7,6,6,7,7,6,6,8,6,5,8,6,6,7,7,7,7,7,7,6,6,7,5,6,6,7,7,5,6,3,6,5,6,5,5,5,5,5,5,6,6,5,6,5,5,6,6,6,5,6,7,5,5,6,5,6,6,5,6,6,6,6,6,6,6,5,5,5,6,5,6,6,5,5,5,6,6,5,6,6,6,6,6,6,5,4,6,6,4,5,5,6,5,5,5,7,7,6,7,5,8,7,5,6,5,5,5,5,6,6,6,6,4,6,5,6,6,6,7,6,6,6,5,5,6,5,6,5,5,6,5,5,5,5,5,6,5,5,5,5,6,5,6,5,6,4,5,5,5,5,7,6,5,5,5,5,5,7,5,4,7,6,5,5,5,6,5,5,5,7,6,4,6,5,6,6,5,5,6,6,5,6,5,5,5,5,6,5,6,5,5,5,5,6,5,5,5,5,5,5,5,5,3,5,5,5,5,6,6,6,5,6,6,6,6,4,4,5,5,5,6,6,5,5,5,5,5,6,5,5,5,5,5,5,5,5,4,5,6,5,5,6,5,5,5,5,5,5,5,6,5,5,6,5,5,5,5,6,6,5,6,6,5,5,5,5,6,6,6,5,5,5,5,5,6,5,6,6,5,5,6,5,6,5,5,6,6,5,6,6,5,5,6,5,5,5,5,5,5,6,6,5,6,5,6,5,6,5,5,7,6,6,5,5,7,6,6,7,7,7,5,6,5,6,5,4,6,5,6,6,5,5,5,7,5,5,5,5,7,5,8,6,4,6,3,4,5,5,7,7,7,5,7,5,6,5,6,5,5,6,5,5,5,5,5,6,6,7,6,7,7,6,5,6,5,5,5,5,6,6,6,6,6,5,4,7,7,7,4,6,6,5,5,6,6,5,6,5,6,7,6,5,5,5,6,5,6,6,7,6,7,3,5,7,7,7,7,5,5,6,6,6,6,6,6,7,6,6,5,6,6,6,5,6,6,6,5,7,6,4,5,7,5,5,6,5,5,6,6,4,7,5,7,7,7,7,7,7,7,7,7,7,7,7,7,7,6,5,6,6,7,5,6,5,5,6,6,6,7,5,6,5,6,6,7,5,7,5,5,5,7,5,6,5,6,6,5,6,7,5,5,6,5,5,6,5,5,6,7,7,6,6,7,7,7,7,5,7,7,7,7,5,7,6,5,6,6,6,7,6,6,5,6,6,5,6,7,6,6,5,6,7,7,7,5,6,6,7,7,5,7,6,5,6,6,7,6,6,6,5,6,6,5,5,5,7,6,6,7,5,7,7,6,8,6,6,6,6,7,7,7,5,7,5,6,6,5,7,6,5,5,7,6,7,6,6,6,5,7,6,7,7,8,6,6,7,6,5,6,5,7,5,6,6,6,6,6,5,6,7,5,6,6,7,6,6,6,6,6,6,6,5,8,6,6,6,4,7,6,6,5,6,6,5,7,7,7,6,6,6,5,6,6,6,6,6,5,6,6,7,6,6,7,6,5,6,6,5,7,7,6,5,7,6,7,5,5,5,5,7,6,6,6,6,6,6,6,6,4,7,5,6,6,5,6,5,5,6,5,6,5,4,6,5,7,5,6,6,6,6,6,6,6,7,8,5,7,7,7,5,7,7,6,5,6,6,6,6,6,6,6,6,6,6,6,6,6,5,5,5,7,5,6,5,5,4,6,4,6,6,4,4,5,5,6,5,6,5,5,5,6,6,6,5,5,5,5,5,5,6,6,6,5,4,5,4,6,6,6,6,6,8,6,6,5,5,6,6,4,6,6,7,6,6,6,6,5,5,6,5,5,5,5,6,6,4,6,5,5,6,6,3,6,6,6,5,5,5,5,4,5,5,5,6,5,6,6,6,6,6,6,6,5,6,5,7,6,6,6,6,5,6,6,5,6,5,5,6,5,5,5,6,6,6,6,6,5,6,5,5,5,5,5,6,5,5,5,5,5,6,5,6,5,5,6,4,6,5,5,6,6,4,5,6,5,5,3,5,5,6,6,6,6,5,5,5,5,5,5,5,5,5,6,5,5,5,5,6,5,5,7,6,5,5,6,8,6,7,6,6,7,6,6,6,6,5,5,5,5,7,5,5,5,5,6,4,6,6,6,5,5,5,5,6,6,7,6,6,5,5,5,6,7,6,5,5,6,6,5,5,5,8,7,7,7,5,6,6,6,5,5,7,6,4,6,6,5,5,7,4,7,3,5,5,6,5,5,7,5,7,3,5,4,5,4,5,4,5,5,5,5,6,6,5,5,5,7,6,5,6,6,6,5,5,5,6,6,3,6,6,6,5,6,5,6,6,6,6,5,6,5,5,6,4,5,5,6,5,6,6,6,6,6,5,6,5,7,6,6,6,5,5,6,7,6,6,7,6,5,5,5,8,5,5,6,5,6,7,5,6,5,5,5,5,5,5,5,6,6,5,5,6,6,6,5,6,6,6,6,6,6,5,6,5,5,5,7,6,6,6,6,5,6,6,6,6,5,6,6,5,6],\"xaxis\":\"x\",\"yaxis\":\"y\"}],                        {\"barmode\":\"relative\",\"legend\":{\"tracegroupgap\":0},\"margin\":{\"t\":60},\"template\":{\"data\":{\"bar\":[{\"error_x\":{\"color\":\"#2a3f5f\"},\"error_y\":{\"color\":\"#2a3f5f\"},\"marker\":{\"line\":{\"color\":\"#E5ECF6\",\"width\":0.5},\"pattern\":{\"fillmode\":\"overlay\",\"size\":10,\"solidity\":0.2}},\"type\":\"bar\"}],\"barpolar\":[{\"marker\":{\"line\":{\"color\":\"#E5ECF6\",\"width\":0.5},\"pattern\":{\"fillmode\":\"overlay\",\"size\":10,\"solidity\":0.2}},\"type\":\"barpolar\"}],\"carpet\":[{\"aaxis\":{\"endlinecolor\":\"#2a3f5f\",\"gridcolor\":\"white\",\"linecolor\":\"white\",\"minorgridcolor\":\"white\",\"startlinecolor\":\"#2a3f5f\"},\"baxis\":{\"endlinecolor\":\"#2a3f5f\",\"gridcolor\":\"white\",\"linecolor\":\"white\",\"minorgridcolor\":\"white\",\"startlinecolor\":\"#2a3f5f\"},\"type\":\"carpet\"}],\"choropleth\":[{\"colorbar\":{\"outlinewidth\":0,\"ticks\":\"\"},\"type\":\"choropleth\"}],\"contour\":[{\"colorbar\":{\"outlinewidth\":0,\"ticks\":\"\"},\"colorscale\":[[0.0,\"#0d0887\"],[0.1111111111111111,\"#46039f\"],[0.2222222222222222,\"#7201a8\"],[0.3333333333333333,\"#9c179e\"],[0.4444444444444444,\"#bd3786\"],[0.5555555555555556,\"#d8576b\"],[0.6666666666666666,\"#ed7953\"],[0.7777777777777778,\"#fb9f3a\"],[0.8888888888888888,\"#fdca26\"],[1.0,\"#f0f921\"]],\"type\":\"contour\"}],\"contourcarpet\":[{\"colorbar\":{\"outlinewidth\":0,\"ticks\":\"\"},\"type\":\"contourcarpet\"}],\"heatmap\":[{\"colorbar\":{\"outlinewidth\":0,\"ticks\":\"\"},\"colorscale\":[[0.0,\"#0d0887\"],[0.1111111111111111,\"#46039f\"],[0.2222222222222222,\"#7201a8\"],[0.3333333333333333,\"#9c179e\"],[0.4444444444444444,\"#bd3786\"],[0.5555555555555556,\"#d8576b\"],[0.6666666666666666,\"#ed7953\"],[0.7777777777777778,\"#fb9f3a\"],[0.8888888888888888,\"#fdca26\"],[1.0,\"#f0f921\"]],\"type\":\"heatmap\"}],\"heatmapgl\":[{\"colorbar\":{\"outlinewidth\":0,\"ticks\":\"\"},\"colorscale\":[[0.0,\"#0d0887\"],[0.1111111111111111,\"#46039f\"],[0.2222222222222222,\"#7201a8\"],[0.3333333333333333,\"#9c179e\"],[0.4444444444444444,\"#bd3786\"],[0.5555555555555556,\"#d8576b\"],[0.6666666666666666,\"#ed7953\"],[0.7777777777777778,\"#fb9f3a\"],[0.8888888888888888,\"#fdca26\"],[1.0,\"#f0f921\"]],\"type\":\"heatmapgl\"}],\"histogram\":[{\"marker\":{\"pattern\":{\"fillmode\":\"overlay\",\"size\":10,\"solidity\":0.2}},\"type\":\"histogram\"}],\"histogram2d\":[{\"colorbar\":{\"outlinewidth\":0,\"ticks\":\"\"},\"colorscale\":[[0.0,\"#0d0887\"],[0.1111111111111111,\"#46039f\"],[0.2222222222222222,\"#7201a8\"],[0.3333333333333333,\"#9c179e\"],[0.4444444444444444,\"#bd3786\"],[0.5555555555555556,\"#d8576b\"],[0.6666666666666666,\"#ed7953\"],[0.7777777777777778,\"#fb9f3a\"],[0.8888888888888888,\"#fdca26\"],[1.0,\"#f0f921\"]],\"type\":\"histogram2d\"}],\"histogram2dcontour\":[{\"colorbar\":{\"outlinewidth\":0,\"ticks\":\"\"},\"colorscale\":[[0.0,\"#0d0887\"],[0.1111111111111111,\"#46039f\"],[0.2222222222222222,\"#7201a8\"],[0.3333333333333333,\"#9c179e\"],[0.4444444444444444,\"#bd3786\"],[0.5555555555555556,\"#d8576b\"],[0.6666666666666666,\"#ed7953\"],[0.7777777777777778,\"#fb9f3a\"],[0.8888888888888888,\"#fdca26\"],[1.0,\"#f0f921\"]],\"type\":\"histogram2dcontour\"}],\"mesh3d\":[{\"colorbar\":{\"outlinewidth\":0,\"ticks\":\"\"},\"type\":\"mesh3d\"}],\"parcoords\":[{\"line\":{\"colorbar\":{\"outlinewidth\":0,\"ticks\":\"\"}},\"type\":\"parcoords\"}],\"pie\":[{\"automargin\":true,\"type\":\"pie\"}],\"scatter\":[{\"marker\":{\"colorbar\":{\"outlinewidth\":0,\"ticks\":\"\"}},\"type\":\"scatter\"}],\"scatter3d\":[{\"line\":{\"colorbar\":{\"outlinewidth\":0,\"ticks\":\"\"}},\"marker\":{\"colorbar\":{\"outlinewidth\":0,\"ticks\":\"\"}},\"type\":\"scatter3d\"}],\"scattercarpet\":[{\"marker\":{\"colorbar\":{\"outlinewidth\":0,\"ticks\":\"\"}},\"type\":\"scattercarpet\"}],\"scattergeo\":[{\"marker\":{\"colorbar\":{\"outlinewidth\":0,\"ticks\":\"\"}},\"type\":\"scattergeo\"}],\"scattergl\":[{\"marker\":{\"colorbar\":{\"outlinewidth\":0,\"ticks\":\"\"}},\"type\":\"scattergl\"}],\"scattermapbox\":[{\"marker\":{\"colorbar\":{\"outlinewidth\":0,\"ticks\":\"\"}},\"type\":\"scattermapbox\"}],\"scatterpolar\":[{\"marker\":{\"colorbar\":{\"outlinewidth\":0,\"ticks\":\"\"}},\"type\":\"scatterpolar\"}],\"scatterpolargl\":[{\"marker\":{\"colorbar\":{\"outlinewidth\":0,\"ticks\":\"\"}},\"type\":\"scatterpolargl\"}],\"scatterternary\":[{\"marker\":{\"colorbar\":{\"outlinewidth\":0,\"ticks\":\"\"}},\"type\":\"scatterternary\"}],\"surface\":[{\"colorbar\":{\"outlinewidth\":0,\"ticks\":\"\"},\"colorscale\":[[0.0,\"#0d0887\"],[0.1111111111111111,\"#46039f\"],[0.2222222222222222,\"#7201a8\"],[0.3333333333333333,\"#9c179e\"],[0.4444444444444444,\"#bd3786\"],[0.5555555555555556,\"#d8576b\"],[0.6666666666666666,\"#ed7953\"],[0.7777777777777778,\"#fb9f3a\"],[0.8888888888888888,\"#fdca26\"],[1.0,\"#f0f921\"]],\"type\":\"surface\"}],\"table\":[{\"cells\":{\"fill\":{\"color\":\"#EBF0F8\"},\"line\":{\"color\":\"white\"}},\"header\":{\"fill\":{\"color\":\"#C8D4E3\"},\"line\":{\"color\":\"white\"}},\"type\":\"table\"}]},\"layout\":{\"annotationdefaults\":{\"arrowcolor\":\"#2a3f5f\",\"arrowhead\":0,\"arrowwidth\":1},\"autotypenumbers\":\"strict\",\"coloraxis\":{\"colorbar\":{\"outlinewidth\":0,\"ticks\":\"\"}},\"colorscale\":{\"diverging\":[[0,\"#8e0152\"],[0.1,\"#c51b7d\"],[0.2,\"#de77ae\"],[0.3,\"#f1b6da\"],[0.4,\"#fde0ef\"],[0.5,\"#f7f7f7\"],[0.6,\"#e6f5d0\"],[0.7,\"#b8e186\"],[0.8,\"#7fbc41\"],[0.9,\"#4d9221\"],[1,\"#276419\"]],\"sequential\":[[0.0,\"#0d0887\"],[0.1111111111111111,\"#46039f\"],[0.2222222222222222,\"#7201a8\"],[0.3333333333333333,\"#9c179e\"],[0.4444444444444444,\"#bd3786\"],[0.5555555555555556,\"#d8576b\"],[0.6666666666666666,\"#ed7953\"],[0.7777777777777778,\"#fb9f3a\"],[0.8888888888888888,\"#fdca26\"],[1.0,\"#f0f921\"]],\"sequentialminus\":[[0.0,\"#0d0887\"],[0.1111111111111111,\"#46039f\"],[0.2222222222222222,\"#7201a8\"],[0.3333333333333333,\"#9c179e\"],[0.4444444444444444,\"#bd3786\"],[0.5555555555555556,\"#d8576b\"],[0.6666666666666666,\"#ed7953\"],[0.7777777777777778,\"#fb9f3a\"],[0.8888888888888888,\"#fdca26\"],[1.0,\"#f0f921\"]]},\"colorway\":[\"#636efa\",\"#EF553B\",\"#00cc96\",\"#ab63fa\",\"#FFA15A\",\"#19d3f3\",\"#FF6692\",\"#B6E880\",\"#FF97FF\",\"#FECB52\"],\"font\":{\"color\":\"#2a3f5f\"},\"geo\":{\"bgcolor\":\"white\",\"lakecolor\":\"white\",\"landcolor\":\"#E5ECF6\",\"showlakes\":true,\"showland\":true,\"subunitcolor\":\"white\"},\"hoverlabel\":{\"align\":\"left\"},\"hovermode\":\"closest\",\"mapbox\":{\"style\":\"light\"},\"paper_bgcolor\":\"white\",\"plot_bgcolor\":\"#E5ECF6\",\"polar\":{\"angularaxis\":{\"gridcolor\":\"white\",\"linecolor\":\"white\",\"ticks\":\"\"},\"bgcolor\":\"#E5ECF6\",\"radialaxis\":{\"gridcolor\":\"white\",\"linecolor\":\"white\",\"ticks\":\"\"}},\"scene\":{\"xaxis\":{\"backgroundcolor\":\"#E5ECF6\",\"gridcolor\":\"white\",\"gridwidth\":2,\"linecolor\":\"white\",\"showbackground\":true,\"ticks\":\"\",\"zerolinecolor\":\"white\"},\"yaxis\":{\"backgroundcolor\":\"#E5ECF6\",\"gridcolor\":\"white\",\"gridwidth\":2,\"linecolor\":\"white\",\"showbackground\":true,\"ticks\":\"\",\"zerolinecolor\":\"white\"},\"zaxis\":{\"backgroundcolor\":\"#E5ECF6\",\"gridcolor\":\"white\",\"gridwidth\":2,\"linecolor\":\"white\",\"showbackground\":true,\"ticks\":\"\",\"zerolinecolor\":\"white\"}},\"shapedefaults\":{\"line\":{\"color\":\"#2a3f5f\"}},\"ternary\":{\"aaxis\":{\"gridcolor\":\"white\",\"linecolor\":\"white\",\"ticks\":\"\"},\"baxis\":{\"gridcolor\":\"white\",\"linecolor\":\"white\",\"ticks\":\"\"},\"bgcolor\":\"#E5ECF6\",\"caxis\":{\"gridcolor\":\"white\",\"linecolor\":\"white\",\"ticks\":\"\"}},\"title\":{\"x\":0.05},\"xaxis\":{\"automargin\":true,\"gridcolor\":\"white\",\"linecolor\":\"white\",\"ticks\":\"\",\"title\":{\"standoff\":15},\"zerolinecolor\":\"white\",\"zerolinewidth\":2},\"yaxis\":{\"automargin\":true,\"gridcolor\":\"white\",\"linecolor\":\"white\",\"ticks\":\"\",\"title\":{\"standoff\":15},\"zerolinecolor\":\"white\",\"zerolinewidth\":2}}},\"xaxis\":{\"anchor\":\"y\",\"domain\":[0.0,1.0],\"title\":{\"text\":\"quality\"}},\"yaxis\":{\"anchor\":\"x\",\"domain\":[0.0,1.0],\"title\":{\"text\":\"count\"}}},                        {\"responsive\": true}                    ).then(function(){\n",
       "                            \n",
       "var gd = document.getElementById('5a9a3fe4-23fa-4119-bf9b-8596dda660a3');\n",
       "var x = new MutationObserver(function (mutations, observer) {{\n",
       "        var display = window.getComputedStyle(gd).display;\n",
       "        if (!display || display === 'none') {{\n",
       "            console.log([gd, 'removed!']);\n",
       "            Plotly.purge(gd);\n",
       "            observer.disconnect();\n",
       "        }}\n",
       "}});\n",
       "\n",
       "// Listen for the removal of the full notebook cells\n",
       "var notebookContainer = gd.closest('#notebook-container');\n",
       "if (notebookContainer) {{\n",
       "    x.observe(notebookContainer, {childList: true});\n",
       "}}\n",
       "\n",
       "// Listen for the clearing of the current output cell\n",
       "var outputEl = gd.closest('.output');\n",
       "if (outputEl) {{\n",
       "    x.observe(outputEl, {childList: true});\n",
       "}}\n",
       "\n",
       "                        })                };                });            </script>        </div>"
      ]
     },
     "metadata": {},
     "output_type": "display_data"
    }
   ],
   "source": [
    "fig = px.histogram(df, x = 'quality')\n",
    "fig.show()"
   ]
  },
  {
   "cell_type": "code",
   "execution_count": 9,
   "metadata": {},
   "outputs": [
    {
     "data": {
      "application/vnd.plotly.v1+json": {
       "config": {
        "plotlyServerURL": "https://plot.ly"
       },
       "data": [
        {
         "alignmentgroup": "True",
         "bingroup": "x",
         "hovertemplate": "fixed acidity=%{x}<br>count=%{y}<extra></extra>",
         "legendgroup": "",
         "marker": {
          "color": "#636efa",
          "pattern": {
           "shape": ""
          }
         },
         "name": "",
         "offsetgroup": "",
         "orientation": "v",
         "showlegend": false,
         "type": "histogram",
         "x": [
          7.4,
          7.8,
          7.8,
          11.2,
          7.4,
          7.4,
          7.9,
          7.3,
          7.8,
          7.5,
          6.7,
          7.5,
          5.6,
          7.8,
          8.9,
          8.9,
          8.5,
          8.1,
          7.4,
          7.9,
          8.9,
          7.6,
          7.9,
          8.5,
          6.9,
          6.3,
          7.6,
          7.9,
          7.1,
          7.8,
          6.7,
          6.9,
          8.3,
          6.9,
          5.2,
          7.8,
          7.8,
          8.1,
          5.7,
          7.3,
          7.3,
          8.8,
          7.5,
          8.1,
          6.8,
          4.6,
          7.7,
          8.7,
          6.4,
          5.6,
          8.8,
          6.6,
          6.6,
          8.6,
          7.6,
          7.7,
          10.2,
          7.5,
          7.8,
          7.3,
          8.8,
          7.7,
          7.5,
          7,
          7.2,
          7.2,
          7.5,
          6.6,
          9.3,
          8,
          7.7,
          7.7,
          7.7,
          8.3,
          9.7,
          8.8,
          8.8,
          6.8,
          6.7,
          8.3,
          6.2,
          7.8,
          7.4,
          7.3,
          6.3,
          6.9,
          8.6,
          7.7,
          9.3,
          7,
          7.9,
          8.6,
          8.6,
          7.7,
          5,
          4.7,
          6.8,
          7,
          7.6,
          8.1,
          8.3,
          7.8,
          8.1,
          8.1,
          7.2,
          8.1,
          7.8,
          6.2,
          8,
          8.1,
          7.8,
          8.4,
          8.4,
          10.1,
          7.8,
          9.4,
          8.3,
          7.8,
          8.8,
          7,
          7.3,
          8.8,
          7.3,
          8,
          7.8,
          9,
          8.2,
          8.1,
          8,
          6.1,
          8,
          5.6,
          5.6,
          6.6,
          7.9,
          8.4,
          8.3,
          7.2,
          7.8,
          7.8,
          8.4,
          8.3,
          5.2,
          6.3,
          5.2,
          8.1,
          5.8,
          7.6,
          6.9,
          8.2,
          7.3,
          9.2,
          7.5,
          7.5,
          7.1,
          7.1,
          7.1,
          7.1,
          7.1,
          6.8,
          7.6,
          7.6,
          7.8,
          7.4,
          7.3,
          7.8,
          6.8,
          7.3,
          6.8,
          7.5,
          7.9,
          8,
          8,
          7.4,
          7.3,
          6.9,
          7.3,
          7.5,
          7,
          8.8,
          8.8,
          8.9,
          7.2,
          6.8,
          6.7,
          8.9,
          7.4,
          7.7,
          7.9,
          7.9,
          8.2,
          6.4,
          6.8,
          7.6,
          7.6,
          7.8,
          7.3,
          11.5,
          5.4,
          6.9,
          9.6,
          8.8,
          6.8,
          7,
          7,
          12.8,
          12.8,
          7.8,
          7.8,
          11,
          9.7,
          8,
          11.6,
          8.2,
          7.8,
          7,
          8.7,
          8.1,
          7.5,
          7.8,
          7.8,
          7.4,
          6.8,
          8.6,
          8.4,
          7.7,
          8.9,
          9,
          7.7,
          6.9,
          5.2,
          8,
          8.5,
          6.9,
          8.2,
          7.2,
          7.2,
          7.2,
          7.2,
          8.2,
          8.9,
          12,
          7.7,
          15,
          15,
          7.3,
          7.1,
          8.2,
          7.7,
          7.3,
          10.8,
          7.1,
          11.1,
          7.7,
          7.1,
          8,
          9.4,
          6.6,
          7.7,
          10,
          7.9,
          7,
          8,
          7.9,
          12.5,
          11.8,
          8.1,
          7.9,
          6.9,
          11.5,
          7.9,
          11.5,
          10.9,
          8.4,
          7.5,
          7.9,
          6.9,
          11.5,
          10.3,
          8.9,
          11.4,
          7.7,
          7.6,
          8.9,
          9.9,
          9.9,
          12,
          7.5,
          8.7,
          11.6,
          8.7,
          11,
          10.4,
          6.9,
          13.3,
          10.8,
          10.6,
          7.1,
          7.2,
          6.9,
          7.5,
          11.1,
          8.3,
          7.4,
          8.4,
          10.3,
          7.6,
          10.3,
          10.3,
          7.4,
          10.3,
          7.9,
          9,
          8.6,
          7.4,
          7.1,
          9.6,
          9.6,
          9.8,
          9.6,
          9.8,
          9.3,
          7.8,
          10.3,
          10,
          10,
          11.6,
          10.3,
          13.4,
          10.7,
          10.2,
          10.2,
          8,
          8.4,
          7.9,
          11.9,
          8.9,
          7.8,
          12.4,
          12.5,
          12.2,
          10.6,
          10.9,
          10.9,
          11.9,
          7,
          6.6,
          13.8,
          9.6,
          9.1,
          10.7,
          9.1,
          7.7,
          13.5,
          6.1,
          6.7,
          11.5,
          10.5,
          11.9,
          12.6,
          8.2,
          8.6,
          11.9,
          12.5,
          12.8,
          10,
          12.8,
          10.4,
          10.3,
          9.4,
          6.9,
          7.9,
          9.1,
          7.4,
          14,
          11.5,
          11.5,
          9.4,
          11.4,
          8.3,
          8.3,
          13.7,
          8.3,
          8.3,
          7.7,
          7.4,
          7.8,
          8.3,
          7.8,
          9.6,
          5.6,
          13.7,
          9.5,
          8.4,
          12.7,
          12,
          6.6,
          11.5,
          11.5,
          8.7,
          6.6,
          7.7,
          12.2,
          11.4,
          7.7,
          8.7,
          9.8,
          12,
          10.4,
          12.5,
          9,
          9.1,
          7.1,
          9.9,
          8.8,
          8.6,
          10.6,
          7,
          11.9,
          6.8,
          9.5,
          6.6,
          7.7,
          10.5,
          7.7,
          6.6,
          6.4,
          9.5,
          9.1,
          12.8,
          10.5,
          7.8,
          11.9,
          12.3,
          10.4,
          12.3,
          8,
          11.1,
          10.4,
          7,
          12.6,
          11.9,
          15.6,
          10,
          5.3,
          9.5,
          12.5,
          9.3,
          8.6,
          11.9,
          11.9,
          8.4,
          6.8,
          10.4,
          7,
          11.3,
          8.9,
          9.2,
          10.4,
          11.6,
          9.2,
          8.3,
          11,
          8.1,
          11.5,
          10,
          10.3,
          8.8,
          11.4,
          8.7,
          13,
          9.6,
          12.5,
          9.9,
          10.5,
          9.6,
          9.3,
          10.4,
          9.6,
          9.4,
          10.6,
          9.4,
          10.6,
          10.6,
          10.6,
          10.2,
          10.2,
          10.2,
          11.6,
          9.3,
          9.3,
          9.2,
          8.9,
          8.7,
          6.5,
          10.7,
          7.8,
          7.2,
          10.7,
          8.7,
          7.8,
          10.4,
          10.4,
          10.5,
          10.5,
          10.2,
          10.4,
          11.2,
          10,
          13.3,
          12.4,
          10,
          10.7,
          10.5,
          10.5,
          8.5,
          12.5,
          10.4,
          10.9,
          7.3,
          9.8,
          7.6,
          8.2,
          9.3,
          9.2,
          10.4,
          7.3,
          7,
          8.2,
          9.9,
          9.1,
          11.9,
          11.9,
          10.3,
          10,
          9.1,
          9.9,
          8.1,
          12.9,
          11.2,
          9.2,
          9.5,
          9.3,
          11.2,
          14.3,
          9.1,
          7.5,
          10.6,
          12.4,
          9,
          6.8,
          9.4,
          9.5,
          5,
          15.5,
          15.5,
          10.9,
          15.6,
          10.9,
          13,
          12.7,
          9,
          9,
          7.6,
          13,
          12.7,
          8.7,
          8.7,
          9.8,
          6.2,
          11.5,
          6.2,
          10.2,
          10.5,
          10.6,
          12.3,
          9.9,
          8.8,
          8.8,
          10.6,
          12.3,
          12.3,
          11.7,
          12,
          11.8,
          7.6,
          11.1,
          7.3,
          5,
          10.2,
          9,
          6.6,
          9,
          9.9,
          7.9,
          8.9,
          12.4,
          11.9,
          8.5,
          12.7,
          8.2,
          13.2,
          7.7,
          13.2,
          8.3,
          8.3,
          9.4,
          8.8,
          10.1,
          6.3,
          8.8,
          13.2,
          7.5,
          8.2,
          9.2,
          9.6,
          9.6,
          11.5,
          11.4,
          11.3,
          8.3,
          8.2,
          10,
          7.9,
          6.8,
          6.8,
          8.8,
          8.8,
          8.7,
          7.6,
          8.7,
          10.4,
          7.6,
          10.1,
          7.9,
          8.7,
          9.6,
          9.5,
          7.7,
          8.9,
          9.9,
          9.5,
          9.9,
          9.5,
          9.9,
          7.8,
          7.3,
          8.3,
          8.7,
          6.7,
          10.7,
          9.8,
          15.9,
          9.4,
          8.6,
          9.7,
          10.7,
          12,
          7.2,
          7.1,
          7.2,
          7.5,
          7.2,
          10.1,
          12.1,
          9.4,
          8.3,
          11.3,
          10,
          11.3,
          6.9,
          8.2,
          9.8,
          8.2,
          10.8,
          9.3,
          10.8,
          8.6,
          8.3,
          10.8,
          13.3,
          8,
          8.5,
          8.1,
          9.8,
          8.1,
          7.1,
          9.1,
          7.7,
          8.1,
          7.4,
          9.2,
          8.6,
          9,
          9,
          5.1,
          7,
          7,
          9.4,
          11.8,
          10.6,
          7,
          7,
          7.5,
          9.1,
          8.4,
          7,
          7.4,
          7.8,
          9.7,
          10.6,
          8.9,
          8.7,
          8,
          9.9,
          7.2,
          8,
          7.6,
          8.4,
          7.1,
          8.4,
          8.9,
          7.6,
          7.1,
          7.5,
          9,
          8.1,
          6.4,
          6.4,
          6.4,
          9.5,
          8.9,
          7.3,
          7,
          7.7,
          7.7,
          7.7,
          8.2,
          9,
          9,
          8.3,
          9.2,
          6.5,
          11.6,
          11.1,
          7.3,
          8.2,
          8.6,
          7.2,
          7.3,
          8.3,
          8.3,
          7.6,
          8.3,
          7.8,
          7.8,
          6.3,
          8.1,
          8.1,
          8.8,
          9,
          9.3,
          8.8,
          9.3,
          9.1,
          9.2,
          8.8,
          7.5,
          7.1,
          7.9,
          7.1,
          9.4,
          9.5,
          7.9,
          7.9,
          7.2,
          6.9,
          6.9,
          8.3,
          7.1,
          7,
          6.5,
          9,
          6.5,
          7.1,
          9.9,
          9.9,
          10,
          10,
          8.6,
          7.4,
          8.8,
          7.1,
          7.7,
          10.1,
          10.8,
          8.7,
          9.3,
          9.4,
          9.4,
          7.2,
          8.6,
          5.1,
          7.7,
          8.4,
          8.2,
          8.4,
          8.2,
          7.4,
          7.6,
          7.3,
          12.9,
          10.8,
          6.9,
          12.6,
          10.8,
          9.8,
          10.8,
          7.1,
          9.1,
          7,
          4.9,
          6.7,
          6.7,
          7.1,
          7.1,
          7.5,
          7.1,
          7.8,
          5.9,
          7.5,
          5.9,
          10.4,
          11.6,
          8.8,
          7.6,
          6.7,
          6.7,
          10.1,
          6,
          11.1,
          6.6,
          10.6,
          7.1,
          9.9,
          6.4,
          6.4,
          7.4,
          6.4,
          6.4,
          9.3,
          9.3,
          8,
          9.3,
          9.3,
          7.6,
          9.3,
          8.2,
          11.7,
          6.8,
          7.2,
          5.8,
          7.5,
          7.2,
          7.2,
          7.2,
          6.8,
          6.9,
          6.8,
          7.6,
          7.7,
          6.9,
          7.3,
          9.1,
          10.4,
          8.8,
          7.1,
          7.7,
          8.8,
          7.2,
          9.2,
          7.6,
          8.4,
          7.2,
          8.8,
          8.9,
          9,
          10.7,
          6.8,
          10.7,
          7.2,
          7.2,
          10.1,
          7.2,
          7.2,
          7.1,
          8.3,
          7.1,
          8.3,
          8.3,
          8.9,
          7.4,
          7.4,
          6.8,
          6.8,
          9.2,
          7.2,
          6.1,
          7.4,
          7.3,
          9.3,
          9.1,
          10,
          9.4,
          7.3,
          8.6,
          5.3,
          6.8,
          8.4,
          8.4,
          9.6,
          8.4,
          8.4,
          6.8,
          8.6,
          8.6,
          9.4,
          8.4,
          8.6,
          8.7,
          6.6,
          7.4,
          7.6,
          7.4,
          6.6,
          8.8,
          8.8,
          12,
          7.2,
          6.2,
          9.6,
          9.9,
          10.1,
          9.8,
          8.3,
          10.2,
          10.2,
          8.3,
          8.9,
          8.9,
          8.9,
          8.3,
          8.2,
          10.2,
          7.6,
          8.5,
          9,
          9.5,
          6.4,
          8,
          8.5,
          7.1,
          6.6,
          8.8,
          8.5,
          8.3,
          9,
          8.5,
          9,
          6.7,
          10.4,
          10.4,
          10.1,
          8.5,
          8.8,
          7.2,
          7.2,
          8.4,
          7,
          12.2,
          9.1,
          9.5,
          7.3,
          9.1,
          12.2,
          7.4,
          9.8,
          7.1,
          7.7,
          9.7,
          7.7,
          7.1,
          6.5,
          7.1,
          10,
          7.7,
          5.6,
          5.6,
          8.9,
          6.4,
          7.5,
          9.9,
          9.1,
          6.8,
          8.2,
          6.8,
          9.1,
          9.1,
          8.9,
          9.6,
          8.9,
          8.9,
          7.7,
          7.5,
          8,
          10.5,
          8.9,
          8,
          8,
          7,
          11.3,
          11.3,
          7,
          8.2,
          7.7,
          8.6,
          7.9,
          6.4,
          7.2,
          7.7,
          7.1,
          7.3,
          8.1,
          7.5,
          8.9,
          10.1,
          7.6,
          7.3,
          8.7,
          8.9,
          7.4,
          6.9,
          8.9,
          9.5,
          6.4,
          6.9,
          7.6,
          7.1,
          9.3,
          9.3,
          7.1,
          8.5,
          5.6,
          8.3,
          8.2,
          8.2,
          8.9,
          7.6,
          9.9,
          8.9,
          11.6,
          9.1,
          8,
          10.2,
          8.2,
          7.7,
          6.6,
          11.1,
          11.1,
          8,
          9.3,
          7.5,
          7.2,
          8,
          7.5,
          9.1,
          9.9,
          8.6,
          8.6,
          7.9,
          10.3,
          7.9,
          7.2,
          8.7,
          7.2,
          6.8,
          8.5,
          7.9,
          11.6,
          11.6,
          10,
          7.9,
          7,
          9.2,
          6.6,
          9.4,
          6.6,
          8.6,
          8,
          8.6,
          8.4,
          7.4,
          6.1,
          7.4,
          8,
          6.3,
          8.2,
          9.1,
          8.1,
          10.8,
          8.3,
          5.4,
          7.9,
          8.9,
          5,
          7,
          7,
          7,
          7.1,
          5.6,
          7.9,
          6.6,
          6.3,
          10.7,
          6.5,
          8.8,
          5.8,
          6.3,
          10,
          10.5,
          9.1,
          5.9,
          7.4,
          7.2,
          8.5,
          8,
          10.4,
          10.4,
          7.5,
          8.2,
          7.3,
          8.2,
          6.9,
          7,
          7.3,
          8.2,
          7.8,
          10,
          7.8,
          10,
          8.2,
          6.1,
          8.3,
          9.6,
          6.6,
          8.3,
          8.5,
          5.1,
          6.7,
          10.2,
          10.6,
          8.8,
          8.5,
          9,
          9,
          8.5,
          9.9,
          8.2,
          6.5,
          7.6,
          9.2,
          7.1,
          9.7,
          7.6,
          7.6,
          6.5,
          6.5,
          7.1,
          5.6,
          8.2,
          8.2,
          9.8,
          10.2,
          6.8,
          6.7,
          7,
          6.6,
          7,
          6.7,
          8.8,
          9.1,
          6.5,
          7.2,
          6.4,
          7,
          6.2,
          7.9,
          7.7,
          7.7,
          7.9,
          7.7,
          7.9,
          8.6,
          9.9,
          7.2,
          7.2,
          7.2,
          9.9,
          7.2,
          6.2,
          6.8,
          6.6,
          6.8,
          9.6,
          10.2,
          8.8,
          7.9,
          8.2,
          8.2,
          9,
          10.9,
          10.9,
          8.1,
          10.5,
          12.6,
          9.2,
          7.5,
          9,
          5.1,
          7.6,
          7.7,
          7.8,
          7.6,
          10.2,
          7.1,
          6,
          7.8,
          7.1,
          8.1,
          6.5,
          7.5,
          9.8,
          9,
          8.3,
          5.9,
          7.4,
          7.4,
          7.4,
          6.9,
          7.1,
          7.1,
          7.5,
          7.1,
          7.9,
          7.8,
          6.1,
          7.5,
          7,
          6.8,
          6.8,
          8.6,
          6.3,
          9.8,
          8.2,
          8.5,
          7.2,
          7.2,
          10.4,
          6.9,
          5.5,
          5,
          7.3,
          5.9,
          7.5,
          7.8,
          8,
          8.5,
          7,
          8,
          9.8,
          7.1,
          7.1,
          7.9,
          8.7,
          7,
          11.3,
          7.1,
          8,
          7,
          7,
          7.6,
          8.2,
          5.9,
          7.5,
          8.2,
          6.6,
          6.6,
          7.2,
          5.7,
          7.6,
          5.2,
          6.7,
          9.1,
          8,
          7.6,
          7.5,
          9.7,
          6.8,
          9.7,
          7,
          7.5,
          6.5,
          8,
          7,
          7,
          7.5,
          5.4,
          9.9,
          7.5,
          9.1,
          9.7,
          5,
          9.1,
          9.1,
          6.7,
          6.7,
          6.7,
          6.7,
          6.5,
          7.4,
          7.4,
          7.8,
          8.4,
          9.1,
          7.2,
          6.6,
          6,
          6,
          6,
          7.5,
          7.5,
          7.5,
          7.6,
          7.5,
          11.5,
          8.2,
          6.1,
          7.2,
          7.2,
          6.9,
          9,
          7.2,
          7.6,
          7.6,
          7.2,
          6.1,
          6.1,
          7.3,
          7.4,
          11.6,
          9.2,
          8.3,
          11.6,
          8,
          7.2,
          7.8,
          7.3,
          6.9,
          8,
          6.6,
          8.7,
          7.5,
          8.7,
          7.7,
          6.8,
          7.2,
          8.2,
          5.2,
          7.2,
          7.5,
          7.5,
          6.8,
          8,
          8,
          7.1,
          8,
          7.4,
          7.4,
          6.6,
          6.7,
          6,
          8,
          7.1,
          8,
          6.4,
          8.6,
          8.7,
          7.3,
          7,
          7.2,
          7.9,
          7.9,
          7.6,
          7.2,
          8,
          7.7,
          8.2,
          6,
          8.1,
          6,
          6.6,
          6.4,
          8.2,
          9.9,
          10,
          6.2,
          10,
          7.3,
          7.8,
          7.7,
          7.8,
          7.5,
          7,
          6.4,
          8.3,
          8.3,
          7.7,
          7.6,
          7.8,
          7.9,
          7.4,
          7.6,
          5.9,
          6.1,
          10.2,
          10.2,
          10,
          6.8,
          7,
          7.3,
          7.2,
          7.4,
          6.9,
          6.9,
          7.3,
          7.4,
          6.9,
          6.8,
          6.9,
          7.2,
          7.2,
          7.8,
          6.6,
          7.6,
          11.7,
          6.5,
          6,
          7.6,
          8.4,
          7.9,
          6.4,
          6.2,
          6.8,
          6.9,
          6.8,
          6.8,
          7.3,
          6.7,
          7.3,
          7.3,
          10,
          6.7,
          7.6,
          6.1,
          9.9,
          5.3,
          9.9,
          5.3,
          7.1,
          8.2,
          5.6,
          8.2,
          7.2,
          8.1,
          6.8,
          7,
          6.8,
          6,
          5.6,
          6.2,
          7.1,
          5.6,
          6.2,
          7.7,
          6.4,
          7,
          7.7,
          6.9,
          6.6,
          6.9,
          7.5,
          7.8,
          7.3,
          6.2,
          7.5,
          6.7,
          6.8,
          7.5,
          7.1,
          7.9,
          6.4,
          7.1,
          6.4,
          6.4,
          6.9,
          6.9,
          6.1,
          6.5,
          7.4,
          6.6,
          6.5,
          6.9,
          6.1,
          6.8,
          6,
          6.7,
          6.8,
          7.1,
          7.9,
          7.1,
          6.6,
          6.1,
          7.2,
          8,
          6.6,
          7,
          6.1,
          5.4,
          6.2,
          7.2,
          6.2,
          7.4,
          6.7,
          11.1,
          8.4,
          6.5,
          7,
          6.3,
          11.2,
          7.4,
          7.1,
          7.1,
          6.3,
          7.3,
          6.6,
          7,
          6.6,
          6.6,
          6.9,
          7.8,
          7.8,
          7.8,
          7.2,
          7.2,
          7.2,
          6.7,
          6.7,
          7.2,
          7,
          6.2,
          6.4,
          6.4,
          7.3,
          6,
          5.6,
          7.5,
          8,
          6.2,
          6.8,
          6.2,
          7.4,
          6.2,
          6.1,
          6.2,
          6.7,
          7.2,
          7.5,
          5.8,
          7.2,
          6.6,
          6.3,
          5.4,
          6.3,
          6.8,
          6.2,
          5.9,
          6.3,
          5.9,
          6
         ],
         "xaxis": "x",
         "yaxis": "y"
        }
       ],
       "layout": {
        "autosize": true,
        "barmode": "relative",
        "legend": {
         "tracegroupgap": 0
        },
        "margin": {
         "t": 60
        },
        "template": {
         "data": {
          "bar": [
           {
            "error_x": {
             "color": "#2a3f5f"
            },
            "error_y": {
             "color": "#2a3f5f"
            },
            "marker": {
             "line": {
              "color": "#E5ECF6",
              "width": 0.5
             },
             "pattern": {
              "fillmode": "overlay",
              "size": 10,
              "solidity": 0.2
             }
            },
            "type": "bar"
           }
          ],
          "barpolar": [
           {
            "marker": {
             "line": {
              "color": "#E5ECF6",
              "width": 0.5
             },
             "pattern": {
              "fillmode": "overlay",
              "size": 10,
              "solidity": 0.2
             }
            },
            "type": "barpolar"
           }
          ],
          "carpet": [
           {
            "aaxis": {
             "endlinecolor": "#2a3f5f",
             "gridcolor": "white",
             "linecolor": "white",
             "minorgridcolor": "white",
             "startlinecolor": "#2a3f5f"
            },
            "baxis": {
             "endlinecolor": "#2a3f5f",
             "gridcolor": "white",
             "linecolor": "white",
             "minorgridcolor": "white",
             "startlinecolor": "#2a3f5f"
            },
            "type": "carpet"
           }
          ],
          "choropleth": [
           {
            "colorbar": {
             "outlinewidth": 0,
             "ticks": ""
            },
            "type": "choropleth"
           }
          ],
          "contour": [
           {
            "colorbar": {
             "outlinewidth": 0,
             "ticks": ""
            },
            "colorscale": [
             [
              0,
              "#0d0887"
             ],
             [
              0.1111111111111111,
              "#46039f"
             ],
             [
              0.2222222222222222,
              "#7201a8"
             ],
             [
              0.3333333333333333,
              "#9c179e"
             ],
             [
              0.4444444444444444,
              "#bd3786"
             ],
             [
              0.5555555555555556,
              "#d8576b"
             ],
             [
              0.6666666666666666,
              "#ed7953"
             ],
             [
              0.7777777777777778,
              "#fb9f3a"
             ],
             [
              0.8888888888888888,
              "#fdca26"
             ],
             [
              1,
              "#f0f921"
             ]
            ],
            "type": "contour"
           }
          ],
          "contourcarpet": [
           {
            "colorbar": {
             "outlinewidth": 0,
             "ticks": ""
            },
            "type": "contourcarpet"
           }
          ],
          "heatmap": [
           {
            "colorbar": {
             "outlinewidth": 0,
             "ticks": ""
            },
            "colorscale": [
             [
              0,
              "#0d0887"
             ],
             [
              0.1111111111111111,
              "#46039f"
             ],
             [
              0.2222222222222222,
              "#7201a8"
             ],
             [
              0.3333333333333333,
              "#9c179e"
             ],
             [
              0.4444444444444444,
              "#bd3786"
             ],
             [
              0.5555555555555556,
              "#d8576b"
             ],
             [
              0.6666666666666666,
              "#ed7953"
             ],
             [
              0.7777777777777778,
              "#fb9f3a"
             ],
             [
              0.8888888888888888,
              "#fdca26"
             ],
             [
              1,
              "#f0f921"
             ]
            ],
            "type": "heatmap"
           }
          ],
          "heatmapgl": [
           {
            "colorbar": {
             "outlinewidth": 0,
             "ticks": ""
            },
            "colorscale": [
             [
              0,
              "#0d0887"
             ],
             [
              0.1111111111111111,
              "#46039f"
             ],
             [
              0.2222222222222222,
              "#7201a8"
             ],
             [
              0.3333333333333333,
              "#9c179e"
             ],
             [
              0.4444444444444444,
              "#bd3786"
             ],
             [
              0.5555555555555556,
              "#d8576b"
             ],
             [
              0.6666666666666666,
              "#ed7953"
             ],
             [
              0.7777777777777778,
              "#fb9f3a"
             ],
             [
              0.8888888888888888,
              "#fdca26"
             ],
             [
              1,
              "#f0f921"
             ]
            ],
            "type": "heatmapgl"
           }
          ],
          "histogram": [
           {
            "marker": {
             "pattern": {
              "fillmode": "overlay",
              "size": 10,
              "solidity": 0.2
             }
            },
            "type": "histogram"
           }
          ],
          "histogram2d": [
           {
            "colorbar": {
             "outlinewidth": 0,
             "ticks": ""
            },
            "colorscale": [
             [
              0,
              "#0d0887"
             ],
             [
              0.1111111111111111,
              "#46039f"
             ],
             [
              0.2222222222222222,
              "#7201a8"
             ],
             [
              0.3333333333333333,
              "#9c179e"
             ],
             [
              0.4444444444444444,
              "#bd3786"
             ],
             [
              0.5555555555555556,
              "#d8576b"
             ],
             [
              0.6666666666666666,
              "#ed7953"
             ],
             [
              0.7777777777777778,
              "#fb9f3a"
             ],
             [
              0.8888888888888888,
              "#fdca26"
             ],
             [
              1,
              "#f0f921"
             ]
            ],
            "type": "histogram2d"
           }
          ],
          "histogram2dcontour": [
           {
            "colorbar": {
             "outlinewidth": 0,
             "ticks": ""
            },
            "colorscale": [
             [
              0,
              "#0d0887"
             ],
             [
              0.1111111111111111,
              "#46039f"
             ],
             [
              0.2222222222222222,
              "#7201a8"
             ],
             [
              0.3333333333333333,
              "#9c179e"
             ],
             [
              0.4444444444444444,
              "#bd3786"
             ],
             [
              0.5555555555555556,
              "#d8576b"
             ],
             [
              0.6666666666666666,
              "#ed7953"
             ],
             [
              0.7777777777777778,
              "#fb9f3a"
             ],
             [
              0.8888888888888888,
              "#fdca26"
             ],
             [
              1,
              "#f0f921"
             ]
            ],
            "type": "histogram2dcontour"
           }
          ],
          "mesh3d": [
           {
            "colorbar": {
             "outlinewidth": 0,
             "ticks": ""
            },
            "type": "mesh3d"
           }
          ],
          "parcoords": [
           {
            "line": {
             "colorbar": {
              "outlinewidth": 0,
              "ticks": ""
             }
            },
            "type": "parcoords"
           }
          ],
          "pie": [
           {
            "automargin": true,
            "type": "pie"
           }
          ],
          "scatter": [
           {
            "marker": {
             "colorbar": {
              "outlinewidth": 0,
              "ticks": ""
             }
            },
            "type": "scatter"
           }
          ],
          "scatter3d": [
           {
            "line": {
             "colorbar": {
              "outlinewidth": 0,
              "ticks": ""
             }
            },
            "marker": {
             "colorbar": {
              "outlinewidth": 0,
              "ticks": ""
             }
            },
            "type": "scatter3d"
           }
          ],
          "scattercarpet": [
           {
            "marker": {
             "colorbar": {
              "outlinewidth": 0,
              "ticks": ""
             }
            },
            "type": "scattercarpet"
           }
          ],
          "scattergeo": [
           {
            "marker": {
             "colorbar": {
              "outlinewidth": 0,
              "ticks": ""
             }
            },
            "type": "scattergeo"
           }
          ],
          "scattergl": [
           {
            "marker": {
             "colorbar": {
              "outlinewidth": 0,
              "ticks": ""
             }
            },
            "type": "scattergl"
           }
          ],
          "scattermapbox": [
           {
            "marker": {
             "colorbar": {
              "outlinewidth": 0,
              "ticks": ""
             }
            },
            "type": "scattermapbox"
           }
          ],
          "scatterpolar": [
           {
            "marker": {
             "colorbar": {
              "outlinewidth": 0,
              "ticks": ""
             }
            },
            "type": "scatterpolar"
           }
          ],
          "scatterpolargl": [
           {
            "marker": {
             "colorbar": {
              "outlinewidth": 0,
              "ticks": ""
             }
            },
            "type": "scatterpolargl"
           }
          ],
          "scatterternary": [
           {
            "marker": {
             "colorbar": {
              "outlinewidth": 0,
              "ticks": ""
             }
            },
            "type": "scatterternary"
           }
          ],
          "surface": [
           {
            "colorbar": {
             "outlinewidth": 0,
             "ticks": ""
            },
            "colorscale": [
             [
              0,
              "#0d0887"
             ],
             [
              0.1111111111111111,
              "#46039f"
             ],
             [
              0.2222222222222222,
              "#7201a8"
             ],
             [
              0.3333333333333333,
              "#9c179e"
             ],
             [
              0.4444444444444444,
              "#bd3786"
             ],
             [
              0.5555555555555556,
              "#d8576b"
             ],
             [
              0.6666666666666666,
              "#ed7953"
             ],
             [
              0.7777777777777778,
              "#fb9f3a"
             ],
             [
              0.8888888888888888,
              "#fdca26"
             ],
             [
              1,
              "#f0f921"
             ]
            ],
            "type": "surface"
           }
          ],
          "table": [
           {
            "cells": {
             "fill": {
              "color": "#EBF0F8"
             },
             "line": {
              "color": "white"
             }
            },
            "header": {
             "fill": {
              "color": "#C8D4E3"
             },
             "line": {
              "color": "white"
             }
            },
            "type": "table"
           }
          ]
         },
         "layout": {
          "annotationdefaults": {
           "arrowcolor": "#2a3f5f",
           "arrowhead": 0,
           "arrowwidth": 1
          },
          "autotypenumbers": "strict",
          "coloraxis": {
           "colorbar": {
            "outlinewidth": 0,
            "ticks": ""
           }
          },
          "colorscale": {
           "diverging": [
            [
             0,
             "#8e0152"
            ],
            [
             0.1,
             "#c51b7d"
            ],
            [
             0.2,
             "#de77ae"
            ],
            [
             0.3,
             "#f1b6da"
            ],
            [
             0.4,
             "#fde0ef"
            ],
            [
             0.5,
             "#f7f7f7"
            ],
            [
             0.6,
             "#e6f5d0"
            ],
            [
             0.7,
             "#b8e186"
            ],
            [
             0.8,
             "#7fbc41"
            ],
            [
             0.9,
             "#4d9221"
            ],
            [
             1,
             "#276419"
            ]
           ],
           "sequential": [
            [
             0,
             "#0d0887"
            ],
            [
             0.1111111111111111,
             "#46039f"
            ],
            [
             0.2222222222222222,
             "#7201a8"
            ],
            [
             0.3333333333333333,
             "#9c179e"
            ],
            [
             0.4444444444444444,
             "#bd3786"
            ],
            [
             0.5555555555555556,
             "#d8576b"
            ],
            [
             0.6666666666666666,
             "#ed7953"
            ],
            [
             0.7777777777777778,
             "#fb9f3a"
            ],
            [
             0.8888888888888888,
             "#fdca26"
            ],
            [
             1,
             "#f0f921"
            ]
           ],
           "sequentialminus": [
            [
             0,
             "#0d0887"
            ],
            [
             0.1111111111111111,
             "#46039f"
            ],
            [
             0.2222222222222222,
             "#7201a8"
            ],
            [
             0.3333333333333333,
             "#9c179e"
            ],
            [
             0.4444444444444444,
             "#bd3786"
            ],
            [
             0.5555555555555556,
             "#d8576b"
            ],
            [
             0.6666666666666666,
             "#ed7953"
            ],
            [
             0.7777777777777778,
             "#fb9f3a"
            ],
            [
             0.8888888888888888,
             "#fdca26"
            ],
            [
             1,
             "#f0f921"
            ]
           ]
          },
          "colorway": [
           "#636efa",
           "#EF553B",
           "#00cc96",
           "#ab63fa",
           "#FFA15A",
           "#19d3f3",
           "#FF6692",
           "#B6E880",
           "#FF97FF",
           "#FECB52"
          ],
          "font": {
           "color": "#2a3f5f"
          },
          "geo": {
           "bgcolor": "white",
           "lakecolor": "white",
           "landcolor": "#E5ECF6",
           "showlakes": true,
           "showland": true,
           "subunitcolor": "white"
          },
          "hoverlabel": {
           "align": "left"
          },
          "hovermode": "closest",
          "mapbox": {
           "style": "light"
          },
          "paper_bgcolor": "white",
          "plot_bgcolor": "#E5ECF6",
          "polar": {
           "angularaxis": {
            "gridcolor": "white",
            "linecolor": "white",
            "ticks": ""
           },
           "bgcolor": "#E5ECF6",
           "radialaxis": {
            "gridcolor": "white",
            "linecolor": "white",
            "ticks": ""
           }
          },
          "scene": {
           "xaxis": {
            "backgroundcolor": "#E5ECF6",
            "gridcolor": "white",
            "gridwidth": 2,
            "linecolor": "white",
            "showbackground": true,
            "ticks": "",
            "zerolinecolor": "white"
           },
           "yaxis": {
            "backgroundcolor": "#E5ECF6",
            "gridcolor": "white",
            "gridwidth": 2,
            "linecolor": "white",
            "showbackground": true,
            "ticks": "",
            "zerolinecolor": "white"
           },
           "zaxis": {
            "backgroundcolor": "#E5ECF6",
            "gridcolor": "white",
            "gridwidth": 2,
            "linecolor": "white",
            "showbackground": true,
            "ticks": "",
            "zerolinecolor": "white"
           }
          },
          "shapedefaults": {
           "line": {
            "color": "#2a3f5f"
           }
          },
          "ternary": {
           "aaxis": {
            "gridcolor": "white",
            "linecolor": "white",
            "ticks": ""
           },
           "baxis": {
            "gridcolor": "white",
            "linecolor": "white",
            "ticks": ""
           },
           "bgcolor": "#E5ECF6",
           "caxis": {
            "gridcolor": "white",
            "linecolor": "white",
            "ticks": ""
           }
          },
          "title": {
           "x": 0.05
          },
          "xaxis": {
           "automargin": true,
           "gridcolor": "white",
           "linecolor": "white",
           "ticks": "",
           "title": {
            "standoff": 15
           },
           "zerolinecolor": "white",
           "zerolinewidth": 2
          },
          "yaxis": {
           "automargin": true,
           "gridcolor": "white",
           "linecolor": "white",
           "ticks": "",
           "title": {
            "standoff": 15
           },
           "zerolinecolor": "white",
           "zerolinewidth": 2
          }
         }
        },
        "xaxis": {
         "anchor": "y",
         "autorange": true,
         "domain": [
          0,
          1
         ],
         "range": [
          4.6,
          16
         ],
         "title": {
          "text": "fixed acidity"
         },
         "type": "linear"
        },
        "yaxis": {
         "anchor": "x",
         "autorange": true,
         "domain": [
          0,
          1
         ],
         "range": [
          0,
          116.84210526315789
         ],
         "title": {
          "text": "count"
         }
        }
       }
      },
      "image/png": "[encoded data removed]",
      "text/html": [
       "<div>                            <div id=\"21f3c204-2aee-471f-aab0-23c5f8036c06\" class=\"plotly-graph-div\" style=\"height:525px; width:100%;\"></div>            <script type=\"text/javascript\">                require([\"plotly\"], function(Plotly) {                    window.PLOTLYENV=window.PLOTLYENV || {};                                    if (document.getElementById(\"21f3c204-2aee-471f-aab0-23c5f8036c06\")) {                    Plotly.newPlot(                        \"21f3c204-2aee-471f-aab0-23c5f8036c06\",                        [{\"alignmentgroup\":\"True\",\"bingroup\":\"x\",\"hovertemplate\":\"fixed acidity=%{x}<br>count=%{y}<extra></extra>\",\"legendgroup\":\"\",\"marker\":{\"color\":\"#636efa\",\"pattern\":{\"shape\":\"\"}},\"name\":\"\",\"offsetgroup\":\"\",\"orientation\":\"v\",\"showlegend\":false,\"type\":\"histogram\",\"x\":[7.4,7.8,7.8,11.2,7.4,7.4,7.9,7.3,7.8,7.5,6.7,7.5,5.6,7.8,8.9,8.9,8.5,8.1,7.4,7.9,8.9,7.6,7.9,8.5,6.9,6.3,7.6,7.9,7.1,7.8,6.7,6.9,8.3,6.9,5.2,7.8,7.8,8.1,5.7,7.3,7.3,8.8,7.5,8.1,6.8,4.6,7.7,8.7,6.4,5.6,8.8,6.6,6.6,8.6,7.6,7.7,10.2,7.5,7.8,7.3,8.8,7.7,7.5,7.0,7.2,7.2,7.5,6.6,9.3,8.0,7.7,7.7,7.7,8.3,9.7,8.8,8.8,6.8,6.7,8.3,6.2,7.8,7.4,7.3,6.3,6.9,8.6,7.7,9.3,7.0,7.9,8.6,8.6,7.7,5.0,4.7,6.8,7.0,7.6,8.1,8.3,7.8,8.1,8.1,7.2,8.1,7.8,6.2,8.0,8.1,7.8,8.4,8.4,10.1,7.8,9.4,8.3,7.8,8.8,7.0,7.3,8.8,7.3,8.0,7.8,9.0,8.2,8.1,8.0,6.1,8.0,5.6,5.6,6.6,7.9,8.4,8.3,7.2,7.8,7.8,8.4,8.3,5.2,6.3,5.2,8.1,5.8,7.6,6.9,8.2,7.3,9.2,7.5,7.5,7.1,7.1,7.1,7.1,7.1,6.8,7.6,7.6,7.8,7.4,7.3,7.8,6.8,7.3,6.8,7.5,7.9,8.0,8.0,7.4,7.3,6.9,7.3,7.5,7.0,8.8,8.8,8.9,7.2,6.8,6.7,8.9,7.4,7.7,7.9,7.9,8.2,6.4,6.8,7.6,7.6,7.8,7.3,11.5,5.4,6.9,9.6,8.8,6.8,7.0,7.0,12.8,12.8,7.8,7.8,11.0,9.7,8.0,11.6,8.2,7.8,7.0,8.7,8.1,7.5,7.8,7.8,7.4,6.8,8.6,8.4,7.7,8.9,9.0,7.7,6.9,5.2,8.0,8.5,6.9,8.2,7.2,7.2,7.2,7.2,8.2,8.9,12.0,7.7,15.0,15.0,7.3,7.1,8.2,7.7,7.3,10.8,7.1,11.1,7.7,7.1,8.0,9.4,6.6,7.7,10.0,7.9,7.0,8.0,7.9,12.5,11.8,8.1,7.9,6.9,11.5,7.9,11.5,10.9,8.4,7.5,7.9,6.9,11.5,10.3,8.9,11.4,7.7,7.6,8.9,9.9,9.9,12.0,7.5,8.7,11.6,8.7,11.0,10.4,6.9,13.3,10.8,10.6,7.1,7.2,6.9,7.5,11.1,8.3,7.4,8.4,10.3,7.6,10.3,10.3,7.4,10.3,7.9,9.0,8.6,7.4,7.1,9.6,9.6,9.8,9.6,9.8,9.3,7.8,10.3,10.0,10.0,11.6,10.3,13.4,10.7,10.2,10.2,8.0,8.4,7.9,11.9,8.9,7.8,12.4,12.5,12.2,10.6,10.9,10.9,11.9,7.0,6.6,13.8,9.6,9.1,10.7,9.1,7.7,13.5,6.1,6.7,11.5,10.5,11.9,12.6,8.2,8.6,11.9,12.5,12.8,10.0,12.8,10.4,10.3,9.4,6.9,7.9,9.1,7.4,14.0,11.5,11.5,9.4,11.4,8.3,8.3,13.7,8.3,8.3,7.7,7.4,7.8,8.3,7.8,9.6,5.6,13.7,9.5,8.4,12.7,12.0,6.6,11.5,11.5,8.7,6.6,7.7,12.2,11.4,7.7,8.7,9.8,12.0,10.4,12.5,9.0,9.1,7.1,9.9,8.8,8.6,10.6,7.0,11.9,6.8,9.5,6.6,7.7,10.5,7.7,6.6,6.4,9.5,9.1,12.8,10.5,7.8,11.9,12.3,10.4,12.3,8.0,11.1,10.4,7.0,12.6,11.9,15.6,10.0,5.3,9.5,12.5,9.3,8.6,11.9,11.9,8.4,6.8,10.4,7.0,11.3,8.9,9.2,10.4,11.6,9.2,8.3,11.0,8.1,11.5,10.0,10.3,8.8,11.4,8.7,13.0,9.6,12.5,9.9,10.5,9.6,9.3,10.4,9.6,9.4,10.6,9.4,10.6,10.6,10.6,10.2,10.2,10.2,11.6,9.3,9.3,9.2,8.9,8.7,6.5,10.7,7.8,7.2,10.7,8.7,7.8,10.4,10.4,10.5,10.5,10.2,10.4,11.2,10.0,13.3,12.4,10.0,10.7,10.5,10.5,8.5,12.5,10.4,10.9,7.3,9.8,7.6,8.2,9.3,9.2,10.4,7.3,7.0,8.2,9.9,9.1,11.9,11.9,10.3,10.0,9.1,9.9,8.1,12.9,11.2,9.2,9.5,9.3,11.2,14.3,9.1,7.5,10.6,12.4,9.0,6.8,9.4,9.5,5.0,15.5,15.5,10.9,15.6,10.9,13.0,12.7,9.0,9.0,7.6,13.0,12.7,8.7,8.7,9.8,6.2,11.5,6.2,10.2,10.5,10.6,12.3,9.9,8.8,8.8,10.6,12.3,12.3,11.7,12.0,11.8,7.6,11.1,7.3,5.0,10.2,9.0,6.6,9.0,9.9,7.9,8.9,12.4,11.9,8.5,12.7,8.2,13.2,7.7,13.2,8.3,8.3,9.4,8.8,10.1,6.3,8.8,13.2,7.5,8.2,9.2,9.6,9.6,11.5,11.4,11.3,8.3,8.2,10.0,7.9,6.8,6.8,8.8,8.8,8.7,7.6,8.7,10.4,7.6,10.1,7.9,8.7,9.6,9.5,7.7,8.9,9.9,9.5,9.9,9.5,9.9,7.8,7.3,8.3,8.7,6.7,10.7,9.8,15.9,9.4,8.6,9.7,10.7,12.0,7.2,7.1,7.2,7.5,7.2,10.1,12.1,9.4,8.3,11.3,10.0,11.3,6.9,8.2,9.8,8.2,10.8,9.3,10.8,8.6,8.3,10.8,13.3,8.0,8.5,8.1,9.8,8.1,7.1,9.1,7.7,8.1,7.4,9.2,8.6,9.0,9.0,5.1,7.0,7.0,9.4,11.8,10.6,7.0,7.0,7.5,9.1,8.4,7.0,7.4,7.8,9.7,10.6,8.9,8.7,8.0,9.9,7.2,8.0,7.6,8.4,7.1,8.4,8.9,7.6,7.1,7.5,9.0,8.1,6.4,6.4,6.4,9.5,8.9,7.3,7.0,7.7,7.7,7.7,8.2,9.0,9.0,8.3,9.2,6.5,11.6,11.1,7.3,8.2,8.6,7.2,7.3,8.3,8.3,7.6,8.3,7.8,7.8,6.3,8.1,8.1,8.8,9.0,9.3,8.8,9.3,9.1,9.2,8.8,7.5,7.1,7.9,7.1,9.4,9.5,7.9,7.9,7.2,6.9,6.9,8.3,7.1,7.0,6.5,9.0,6.5,7.1,9.9,9.9,10.0,10.0,8.6,7.4,8.8,7.1,7.7,10.1,10.8,8.7,9.3,9.4,9.4,7.2,8.6,5.1,7.7,8.4,8.2,8.4,8.2,7.4,7.6,7.3,12.9,10.8,6.9,12.6,10.8,9.8,10.8,7.1,9.1,7.0,4.9,6.7,6.7,7.1,7.1,7.5,7.1,7.8,5.9,7.5,5.9,10.4,11.6,8.8,7.6,6.7,6.7,10.1,6.0,11.1,6.6,10.6,7.1,9.9,6.4,6.4,7.4,6.4,6.4,9.3,9.3,8.0,9.3,9.3,7.6,9.3,8.2,11.7,6.8,7.2,5.8,7.5,7.2,7.2,7.2,6.8,6.9,6.8,7.6,7.7,6.9,7.3,9.1,10.4,8.8,7.1,7.7,8.8,7.2,9.2,7.6,8.4,7.2,8.8,8.9,9.0,10.7,6.8,10.7,7.2,7.2,10.1,7.2,7.2,7.1,8.3,7.1,8.3,8.3,8.9,7.4,7.4,6.8,6.8,9.2,7.2,6.1,7.4,7.3,9.3,9.1,10.0,9.4,7.3,8.6,5.3,6.8,8.4,8.4,9.6,8.4,8.4,6.8,8.6,8.6,9.4,8.4,8.6,8.7,6.6,7.4,7.6,7.4,6.6,8.8,8.8,12.0,7.2,6.2,9.6,9.9,10.1,9.8,8.3,10.2,10.2,8.3,8.9,8.9,8.9,8.3,8.2,10.2,7.6,8.5,9.0,9.5,6.4,8.0,8.5,7.1,6.6,8.8,8.5,8.3,9.0,8.5,9.0,6.7,10.4,10.4,10.1,8.5,8.8,7.2,7.2,8.4,7.0,12.2,9.1,9.5,7.3,9.1,12.2,7.4,9.8,7.1,7.7,9.7,7.7,7.1,6.5,7.1,10.0,7.7,5.6,5.6,8.9,6.4,7.5,9.9,9.1,6.8,8.2,6.8,9.1,9.1,8.9,9.6,8.9,8.9,7.7,7.5,8.0,10.5,8.9,8.0,8.0,7.0,11.3,11.3,7.0,8.2,7.7,8.6,7.9,6.4,7.2,7.7,7.1,7.3,8.1,7.5,8.9,10.1,7.6,7.3,8.7,8.9,7.4,6.9,8.9,9.5,6.4,6.9,7.6,7.1,9.3,9.3,7.1,8.5,5.6,8.3,8.2,8.2,8.9,7.6,9.9,8.9,11.6,9.1,8.0,10.2,8.2,7.7,6.6,11.1,11.1,8.0,9.3,7.5,7.2,8.0,7.5,9.1,9.9,8.6,8.6,7.9,10.3,7.9,7.2,8.7,7.2,6.8,8.5,7.9,11.6,11.6,10.0,7.9,7.0,9.2,6.6,9.4,6.6,8.6,8.0,8.6,8.4,7.4,6.1,7.4,8.0,6.3,8.2,9.1,8.1,10.8,8.3,5.4,7.9,8.9,5.0,7.0,7.0,7.0,7.1,5.6,7.9,6.6,6.3,10.7,6.5,8.8,5.8,6.3,10.0,10.5,9.1,5.9,7.4,7.2,8.5,8.0,10.4,10.4,7.5,8.2,7.3,8.2,6.9,7.0,7.3,8.2,7.8,10.0,7.8,10.0,8.2,6.1,8.3,9.6,6.6,8.3,8.5,5.1,6.7,10.2,10.6,8.8,8.5,9.0,9.0,8.5,9.9,8.2,6.5,7.6,9.2,7.1,9.7,7.6,7.6,6.5,6.5,7.1,5.6,8.2,8.2,9.8,10.2,6.8,6.7,7.0,6.6,7.0,6.7,8.8,9.1,6.5,7.2,6.4,7.0,6.2,7.9,7.7,7.7,7.9,7.7,7.9,8.6,9.9,7.2,7.2,7.2,9.9,7.2,6.2,6.8,6.6,6.8,9.6,10.2,8.8,7.9,8.2,8.2,9.0,10.9,10.9,8.1,10.5,12.6,9.2,7.5,9.0,5.1,7.6,7.7,7.8,7.6,10.2,7.1,6.0,7.8,7.1,8.1,6.5,7.5,9.8,9.0,8.3,5.9,7.4,7.4,7.4,6.9,7.1,7.1,7.5,7.1,7.9,7.8,6.1,7.5,7.0,6.8,6.8,8.6,6.3,9.8,8.2,8.5,7.2,7.2,10.4,6.9,5.5,5.0,7.3,5.9,7.5,7.8,8.0,8.5,7.0,8.0,9.8,7.1,7.1,7.9,8.7,7.0,11.3,7.1,8.0,7.0,7.0,7.6,8.2,5.9,7.5,8.2,6.6,6.6,7.2,5.7,7.6,5.2,6.7,9.1,8.0,7.6,7.5,9.7,6.8,9.7,7.0,7.5,6.5,8.0,7.0,7.0,7.5,5.4,9.9,7.5,9.1,9.7,5.0,9.1,9.1,6.7,6.7,6.7,6.7,6.5,7.4,7.4,7.8,8.4,9.1,7.2,6.6,6.0,6.0,6.0,7.5,7.5,7.5,7.6,7.5,11.5,8.2,6.1,7.2,7.2,6.9,9.0,7.2,7.6,7.6,7.2,6.1,6.1,7.3,7.4,11.6,9.2,8.3,11.6,8.0,7.2,7.8,7.3,6.9,8.0,6.6,8.7,7.5,8.7,7.7,6.8,7.2,8.2,5.2,7.2,7.5,7.5,6.8,8.0,8.0,7.1,8.0,7.4,7.4,6.6,6.7,6.0,8.0,7.1,8.0,6.4,8.6,8.7,7.3,7.0,7.2,7.9,7.9,7.6,7.2,8.0,7.7,8.2,6.0,8.1,6.0,6.6,6.4,8.2,9.9,10.0,6.2,10.0,7.3,7.8,7.7,7.8,7.5,7.0,6.4,8.3,8.3,7.7,7.6,7.8,7.9,7.4,7.6,5.9,6.1,10.2,10.2,10.0,6.8,7.0,7.3,7.2,7.4,6.9,6.9,7.3,7.4,6.9,6.8,6.9,7.2,7.2,7.8,6.6,7.6,11.7,6.5,6.0,7.6,8.4,7.9,6.4,6.2,6.8,6.9,6.8,6.8,7.3,6.7,7.3,7.3,10.0,6.7,7.6,6.1,9.9,5.3,9.9,5.3,7.1,8.2,5.6,8.2,7.2,8.1,6.8,7.0,6.8,6.0,5.6,6.2,7.1,5.6,6.2,7.7,6.4,7.0,7.7,6.9,6.6,6.9,7.5,7.8,7.3,6.2,7.5,6.7,6.8,7.5,7.1,7.9,6.4,7.1,6.4,6.4,6.9,6.9,6.1,6.5,7.4,6.6,6.5,6.9,6.1,6.8,6.0,6.7,6.8,7.1,7.9,7.1,6.6,6.1,7.2,8.0,6.6,7.0,6.1,5.4,6.2,7.2,6.2,7.4,6.7,11.1,8.4,6.5,7.0,6.3,11.2,7.4,7.1,7.1,6.3,7.3,6.6,7.0,6.6,6.6,6.9,7.8,7.8,7.8,7.2,7.2,7.2,6.7,6.7,7.2,7.0,6.2,6.4,6.4,7.3,6.0,5.6,7.5,8.0,6.2,6.8,6.2,7.4,6.2,6.1,6.2,6.7,7.2,7.5,5.8,7.2,6.6,6.3,5.4,6.3,6.8,6.2,5.9,6.3,5.9,6.0],\"xaxis\":\"x\",\"yaxis\":\"y\"}],                        {\"barmode\":\"relative\",\"legend\":{\"tracegroupgap\":0},\"margin\":{\"t\":60},\"template\":{\"data\":{\"bar\":[{\"error_x\":{\"color\":\"#2a3f5f\"},\"error_y\":{\"color\":\"#2a3f5f\"},\"marker\":{\"line\":{\"color\":\"#E5ECF6\",\"width\":0.5},\"pattern\":{\"fillmode\":\"overlay\",\"size\":10,\"solidity\":0.2}},\"type\":\"bar\"}],\"barpolar\":[{\"marker\":{\"line\":{\"color\":\"#E5ECF6\",\"width\":0.5},\"pattern\":{\"fillmode\":\"overlay\",\"size\":10,\"solidity\":0.2}},\"type\":\"barpolar\"}],\"carpet\":[{\"aaxis\":{\"endlinecolor\":\"#2a3f5f\",\"gridcolor\":\"white\",\"linecolor\":\"white\",\"minorgridcolor\":\"white\",\"startlinecolor\":\"#2a3f5f\"},\"baxis\":{\"endlinecolor\":\"#2a3f5f\",\"gridcolor\":\"white\",\"linecolor\":\"white\",\"minorgridcolor\":\"white\",\"startlinecolor\":\"#2a3f5f\"},\"type\":\"carpet\"}],\"choropleth\":[{\"colorbar\":{\"outlinewidth\":0,\"ticks\":\"\"},\"type\":\"choropleth\"}],\"contour\":[{\"colorbar\":{\"outlinewidth\":0,\"ticks\":\"\"},\"colorscale\":[[0.0,\"#0d0887\"],[0.1111111111111111,\"#46039f\"],[0.2222222222222222,\"#7201a8\"],[0.3333333333333333,\"#9c179e\"],[0.4444444444444444,\"#bd3786\"],[0.5555555555555556,\"#d8576b\"],[0.6666666666666666,\"#ed7953\"],[0.7777777777777778,\"#fb9f3a\"],[0.8888888888888888,\"#fdca26\"],[1.0,\"#f0f921\"]],\"type\":\"contour\"}],\"contourcarpet\":[{\"colorbar\":{\"outlinewidth\":0,\"ticks\":\"\"},\"type\":\"contourcarpet\"}],\"heatmap\":[{\"colorbar\":{\"outlinewidth\":0,\"ticks\":\"\"},\"colorscale\":[[0.0,\"#0d0887\"],[0.1111111111111111,\"#46039f\"],[0.2222222222222222,\"#7201a8\"],[0.3333333333333333,\"#9c179e\"],[0.4444444444444444,\"#bd3786\"],[0.5555555555555556,\"#d8576b\"],[0.6666666666666666,\"#ed7953\"],[0.7777777777777778,\"#fb9f3a\"],[0.8888888888888888,\"#fdca26\"],[1.0,\"#f0f921\"]],\"type\":\"heatmap\"}],\"heatmapgl\":[{\"colorbar\":{\"outlinewidth\":0,\"ticks\":\"\"},\"colorscale\":[[0.0,\"#0d0887\"],[0.1111111111111111,\"#46039f\"],[0.2222222222222222,\"#7201a8\"],[0.3333333333333333,\"#9c179e\"],[0.4444444444444444,\"#bd3786\"],[0.5555555555555556,\"#d8576b\"],[0.6666666666666666,\"#ed7953\"],[0.7777777777777778,\"#fb9f3a\"],[0.8888888888888888,\"#fdca26\"],[1.0,\"#f0f921\"]],\"type\":\"heatmapgl\"}],\"histogram\":[{\"marker\":{\"pattern\":{\"fillmode\":\"overlay\",\"size\":10,\"solidity\":0.2}},\"type\":\"histogram\"}],\"histogram2d\":[{\"colorbar\":{\"outlinewidth\":0,\"ticks\":\"\"},\"colorscale\":[[0.0,\"#0d0887\"],[0.1111111111111111,\"#46039f\"],[0.2222222222222222,\"#7201a8\"],[0.3333333333333333,\"#9c179e\"],[0.4444444444444444,\"#bd3786\"],[0.5555555555555556,\"#d8576b\"],[0.6666666666666666,\"#ed7953\"],[0.7777777777777778,\"#fb9f3a\"],[0.8888888888888888,\"#fdca26\"],[1.0,\"#f0f921\"]],\"type\":\"histogram2d\"}],\"histogram2dcontour\":[{\"colorbar\":{\"outlinewidth\":0,\"ticks\":\"\"},\"colorscale\":[[0.0,\"#0d0887\"],[0.1111111111111111,\"#46039f\"],[0.2222222222222222,\"#7201a8\"],[0.3333333333333333,\"#9c179e\"],[0.4444444444444444,\"#bd3786\"],[0.5555555555555556,\"#d8576b\"],[0.6666666666666666,\"#ed7953\"],[0.7777777777777778,\"#fb9f3a\"],[0.8888888888888888,\"#fdca26\"],[1.0,\"#f0f921\"]],\"type\":\"histogram2dcontour\"}],\"mesh3d\":[{\"colorbar\":{\"outlinewidth\":0,\"ticks\":\"\"},\"type\":\"mesh3d\"}],\"parcoords\":[{\"line\":{\"colorbar\":{\"outlinewidth\":0,\"ticks\":\"\"}},\"type\":\"parcoords\"}],\"pie\":[{\"automargin\":true,\"type\":\"pie\"}],\"scatter\":[{\"marker\":{\"colorbar\":{\"outlinewidth\":0,\"ticks\":\"\"}},\"type\":\"scatter\"}],\"scatter3d\":[{\"line\":{\"colorbar\":{\"outlinewidth\":0,\"ticks\":\"\"}},\"marker\":{\"colorbar\":{\"outlinewidth\":0,\"ticks\":\"\"}},\"type\":\"scatter3d\"}],\"scattercarpet\":[{\"marker\":{\"colorbar\":{\"outlinewidth\":0,\"ticks\":\"\"}},\"type\":\"scattercarpet\"}],\"scattergeo\":[{\"marker\":{\"colorbar\":{\"outlinewidth\":0,\"ticks\":\"\"}},\"type\":\"scattergeo\"}],\"scattergl\":[{\"marker\":{\"colorbar\":{\"outlinewidth\":0,\"ticks\":\"\"}},\"type\":\"scattergl\"}],\"scattermapbox\":[{\"marker\":{\"colorbar\":{\"outlinewidth\":0,\"ticks\":\"\"}},\"type\":\"scattermapbox\"}],\"scatterpolar\":[{\"marker\":{\"colorbar\":{\"outlinewidth\":0,\"ticks\":\"\"}},\"type\":\"scatterpolar\"}],\"scatterpolargl\":[{\"marker\":{\"colorbar\":{\"outlinewidth\":0,\"ticks\":\"\"}},\"type\":\"scatterpolargl\"}],\"scatterternary\":[{\"marker\":{\"colorbar\":{\"outlinewidth\":0,\"ticks\":\"\"}},\"type\":\"scatterternary\"}],\"surface\":[{\"colorbar\":{\"outlinewidth\":0,\"ticks\":\"\"},\"colorscale\":[[0.0,\"#0d0887\"],[0.1111111111111111,\"#46039f\"],[0.2222222222222222,\"#7201a8\"],[0.3333333333333333,\"#9c179e\"],[0.4444444444444444,\"#bd3786\"],[0.5555555555555556,\"#d8576b\"],[0.6666666666666666,\"#ed7953\"],[0.7777777777777778,\"#fb9f3a\"],[0.8888888888888888,\"#fdca26\"],[1.0,\"#f0f921\"]],\"type\":\"surface\"}],\"table\":[{\"cells\":{\"fill\":{\"color\":\"#EBF0F8\"},\"line\":{\"color\":\"white\"}},\"header\":{\"fill\":{\"color\":\"#C8D4E3\"},\"line\":{\"color\":\"white\"}},\"type\":\"table\"}]},\"layout\":{\"annotationdefaults\":{\"arrowcolor\":\"#2a3f5f\",\"arrowhead\":0,\"arrowwidth\":1},\"autotypenumbers\":\"strict\",\"coloraxis\":{\"colorbar\":{\"outlinewidth\":0,\"ticks\":\"\"}},\"colorscale\":{\"diverging\":[[0,\"#8e0152\"],[0.1,\"#c51b7d\"],[0.2,\"#de77ae\"],[0.3,\"#f1b6da\"],[0.4,\"#fde0ef\"],[0.5,\"#f7f7f7\"],[0.6,\"#e6f5d0\"],[0.7,\"#b8e186\"],[0.8,\"#7fbc41\"],[0.9,\"#4d9221\"],[1,\"#276419\"]],\"sequential\":[[0.0,\"#0d0887\"],[0.1111111111111111,\"#46039f\"],[0.2222222222222222,\"#7201a8\"],[0.3333333333333333,\"#9c179e\"],[0.4444444444444444,\"#bd3786\"],[0.5555555555555556,\"#d8576b\"],[0.6666666666666666,\"#ed7953\"],[0.7777777777777778,\"#fb9f3a\"],[0.8888888888888888,\"#fdca26\"],[1.0,\"#f0f921\"]],\"sequentialminus\":[[0.0,\"#0d0887\"],[0.1111111111111111,\"#46039f\"],[0.2222222222222222,\"#7201a8\"],[0.3333333333333333,\"#9c179e\"],[0.4444444444444444,\"#bd3786\"],[0.5555555555555556,\"#d8576b\"],[0.6666666666666666,\"#ed7953\"],[0.7777777777777778,\"#fb9f3a\"],[0.8888888888888888,\"#fdca26\"],[1.0,\"#f0f921\"]]},\"colorway\":[\"#636efa\",\"#EF553B\",\"#00cc96\",\"#ab63fa\",\"#FFA15A\",\"#19d3f3\",\"#FF6692\",\"#B6E880\",\"#FF97FF\",\"#FECB52\"],\"font\":{\"color\":\"#2a3f5f\"},\"geo\":{\"bgcolor\":\"white\",\"lakecolor\":\"white\",\"landcolor\":\"#E5ECF6\",\"showlakes\":true,\"showland\":true,\"subunitcolor\":\"white\"},\"hoverlabel\":{\"align\":\"left\"},\"hovermode\":\"closest\",\"mapbox\":{\"style\":\"light\"},\"paper_bgcolor\":\"white\",\"plot_bgcolor\":\"#E5ECF6\",\"polar\":{\"angularaxis\":{\"gridcolor\":\"white\",\"linecolor\":\"white\",\"ticks\":\"\"},\"bgcolor\":\"#E5ECF6\",\"radialaxis\":{\"gridcolor\":\"white\",\"linecolor\":\"white\",\"ticks\":\"\"}},\"scene\":{\"xaxis\":{\"backgroundcolor\":\"#E5ECF6\",\"gridcolor\":\"white\",\"gridwidth\":2,\"linecolor\":\"white\",\"showbackground\":true,\"ticks\":\"\",\"zerolinecolor\":\"white\"},\"yaxis\":{\"backgroundcolor\":\"#E5ECF6\",\"gridcolor\":\"white\",\"gridwidth\":2,\"linecolor\":\"white\",\"showbackground\":true,\"ticks\":\"\",\"zerolinecolor\":\"white\"},\"zaxis\":{\"backgroundcolor\":\"#E5ECF6\",\"gridcolor\":\"white\",\"gridwidth\":2,\"linecolor\":\"white\",\"showbackground\":true,\"ticks\":\"\",\"zerolinecolor\":\"white\"}},\"shapedefaults\":{\"line\":{\"color\":\"#2a3f5f\"}},\"ternary\":{\"aaxis\":{\"gridcolor\":\"white\",\"linecolor\":\"white\",\"ticks\":\"\"},\"baxis\":{\"gridcolor\":\"white\",\"linecolor\":\"white\",\"ticks\":\"\"},\"bgcolor\":\"#E5ECF6\",\"caxis\":{\"gridcolor\":\"white\",\"linecolor\":\"white\",\"ticks\":\"\"}},\"title\":{\"x\":0.05},\"xaxis\":{\"automargin\":true,\"gridcolor\":\"white\",\"linecolor\":\"white\",\"ticks\":\"\",\"title\":{\"standoff\":15},\"zerolinecolor\":\"white\",\"zerolinewidth\":2},\"yaxis\":{\"automargin\":true,\"gridcolor\":\"white\",\"linecolor\":\"white\",\"ticks\":\"\",\"title\":{\"standoff\":15},\"zerolinecolor\":\"white\",\"zerolinewidth\":2}}},\"xaxis\":{\"anchor\":\"y\",\"domain\":[0.0,1.0],\"title\":{\"text\":\"fixed acidity\"}},\"yaxis\":{\"anchor\":\"x\",\"domain\":[0.0,1.0],\"title\":{\"text\":\"count\"}}},                        {\"responsive\": true}                    ).then(function(){\n",
       "                            \n",
       "var gd = document.getElementById('21f3c204-2aee-471f-aab0-23c5f8036c06');\n",
       "var x = new MutationObserver(function (mutations, observer) {{\n",
       "        var display = window.getComputedStyle(gd).display;\n",
       "        if (!display || display === 'none') {{\n",
       "            console.log([gd, 'removed!']);\n",
       "            Plotly.purge(gd);\n",
       "            observer.disconnect();\n",
       "        }}\n",
       "}});\n",
       "\n",
       "// Listen for the removal of the full notebook cells\n",
       "var notebookContainer = gd.closest('#notebook-container');\n",
       "if (notebookContainer) {{\n",
       "    x.observe(notebookContainer, {childList: true});\n",
       "}}\n",
       "\n",
       "// Listen for the clearing of the current output cell\n",
       "var outputEl = gd.closest('.output');\n",
       "if (outputEl) {{\n",
       "    x.observe(outputEl, {childList: true});\n",
       "}}\n",
       "\n",
       "                        })                };                });            </script>        </div>"
      ]
     },
     "metadata": {},
     "output_type": "display_data"
    }
   ],
   "source": [
    "px.histogram(df, x='fixed acidity')"
   ]
  },
  {
   "cell_type": "code",
   "execution_count": 30,
   "metadata": {},
   "outputs": [
    {
     "data": {
      "text/plain": [
       "<matplotlib.axes._subplots.AxesSubplot at 0x7fbb9ae8a8d0>"
      ]
     },
     "execution_count": 30,
     "metadata": {},
     "output_type": "execute_result"
    },
    {
     "data": {
      "image/png": "[encoded data removed]",
      "text/plain": [
       "<Figure size 1080x720 with 2 Axes>"
      ]
     },
     "metadata": {
      "needs_background": "light"
     },
     "output_type": "display_data"
    }
   ],
   "source": [
    "# Find correlations between quality and different features\n",
    "corr = df.corr()\n",
    "plt.pyplot.subplots(figsize=(15,10))\n",
    "sns.heatmap(corr, \n",
    "            xticklabels=corr.columns,\n",
    "            yticklabels=corr.columns,\n",
    "            annot=True,\n",
    "            cmap=sns.diverging_palette(400, 310, as_cmap=True))"
   ]
  },
  {
   "cell_type": "code",
   "execution_count": 72,
   "metadata": {},
   "outputs": [
    {
     "data": {
      "text/plain": [
       "0       0\n",
       "1       0\n",
       "2       0\n",
       "3       0\n",
       "4       0\n",
       "       ..\n",
       "1594    0\n",
       "1595    0\n",
       "1596    0\n",
       "1597    0\n",
       "1598    0\n",
       "Name: goodquality, Length: 1599, dtype: int64"
      ]
     },
     "execution_count": 72,
     "metadata": {},
     "output_type": "execute_result"
    }
   ],
   "source": [
    "## Convert to Classification Problem\n",
    "\n",
    "# Create Classification version of target variable\n",
    "df['goodquality'] = [1 if x >= 7 else 0 for x in df['quality']]\n",
    "\n",
    "# Separate feature variables and target variable\n",
    "X = df.drop(['quality', 'goodquality'], axis = 1)\n",
    "y = df['goodquality']\n",
    "X.head()\n",
    "y"
   ]
  },
  {
   "cell_type": "code",
   "execution_count": 56,
   "metadata": {},
   "outputs": [
    {
     "data": {
      "text/plain": [
       "0    1382\n",
       "1     217\n",
       "Name: goodquality, dtype: int64"
      ]
     },
     "execution_count": 56,
     "metadata": {},
     "output_type": "execute_result"
    }
   ],
   "source": [
    "# See proportion of good vs bad wines\n",
    "df['goodquality'].value_counts()"
   ]
  },
  {
   "cell_type": "code",
   "execution_count": 71,
   "metadata": {},
   "outputs": [],
   "source": [
    "## Prepare Data for Modelling\n",
    "\n",
    "# Standardize Feature Variables (mean of 0, std dev of 1 so that all variables are normalized to each other)\n",
    "from sklearn.preprocessing import StandardScaler\n",
    "X_features = X\n",
    "X = StandardScaler().fit_transform(X) # this removes mean and scales to unit variance"
   ]
  },
  {
   "cell_type": "code",
   "execution_count": 62,
   "metadata": {},
   "outputs": [],
   "source": [
    "# Split the data\n",
    "from sklearn.model_selection import train_test_split\n",
    "X_train, X_test, y_train, y_test = train_test_split(X, y, test_size = 0.25, random_state = 0)"
   ]
  },
  {
   "cell_type": "code",
   "execution_count": 65,
   "metadata": {},
   "outputs": [
    {
     "name": "stdout",
     "output_type": "stream",
     "text": [
      "              precision    recall  f1-score   support\n",
      "\n",
      "           0       0.96      0.92      0.94       355\n",
      "           1       0.53      0.73      0.62        45\n",
      "\n",
      "    accuracy                           0.90       400\n",
      "   macro avg       0.75      0.83      0.78       400\n",
      "weighted avg       0.92      0.90      0.90       400\n",
      "\n"
     ]
    }
   ],
   "source": [
    "## Modelling\n",
    "\n",
    "# Model 1: Decision Tree\n",
    "from sklearn.metrics import classification_report\n",
    "from sklearn.tree import DecisionTreeClassifier\n",
    "\n",
    "model1 = DecisionTreeClassifier(random_state=1)\n",
    "model1.fit(X_train, y_train)\n",
    "y_pred1 = model1.predict(X_test)\n",
    "\n",
    "print(classification_report(y_test, y_pred1))"
   ]
  },
  {
   "cell_type": "code",
   "execution_count": null,
   "metadata": {},
   "outputs": [],
   "source": [
    "# Model 2: Random Forest\n"
   ]
  },
  {
   "cell_type": "code",
   "execution_count": null,
   "metadata": {},
   "outputs": [],
   "source": []
  }
 ],
 "metadata": {
  "kernelspec": {
   "display_name": "Python 3",
   "language": "python",
   "name": "python3"
  },
  "language_info": {
   "codemirror_mode": {
    "name": "ipython",
    "version": 3
   },
   "file_extension": ".py",
   "mimetype": "text/x-python",
   "name": "python",
   "nbconvert_exporter": "python",
   "pygments_lexer": "ipython3",
   "version": "3.7.6"
  }
 },
 "nbformat": 4,
 "nbformat_minor": 4
}
